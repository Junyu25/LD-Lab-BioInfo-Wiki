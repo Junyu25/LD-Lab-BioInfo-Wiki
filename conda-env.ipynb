{
 "cells": [
  {
   "cell_type": "markdown",
   "metadata": {},
   "source": [
    "# Conda 环境的安装&使用"
   ]
  },
  {
   "cell_type": "markdown",
   "metadata": {},
   "source": [
    "conda是一个环境管理软件，可以让你不用管理员权限就能安装一些常用的分析软件"
   ]
  },
  {
   "cell_type": "markdown",
   "metadata": {},
   "source": [
    "## 安装"
   ]
  },
  {
   "cell_type": "markdown",
   "metadata": {},
   "source": [
    "[安装教程](https://docs.conda.io/projects/conda/en/latest/user-guide/install/linux.html)"
   ]
  },
  {
   "cell_type": "markdown",
   "metadata": {},
   "source": [
    "### miniconda "
   ]
  },
  {
   "cell_type": "markdown",
   "metadata": {},
   "source": [
    "推荐个人环境安装, 占用空间小。 [官方教程](https://docs.conda.io/en/latest/conda.html)"
   ]
  },
  {
   "cell_type": "code",
   "execution_count": null,
   "metadata": {},
   "outputs": [],
   "source": [
    "wget https://repo.anaconda.com/miniconda/Miniconda3-latest-Linux-x86_64.sh #下载"
   ]
  },
  {
   "cell_type": "code",
   "execution_count": null,
   "metadata": {},
   "outputs": [],
   "source": [
    "bash Miniconda3-latest-Linux-x86_64.sh #安装"
   ]
  },
  {
   "cell_type": "markdown",
   "metadata": {},
   "source": [
    "### anaconda "
   ]
  },
  {
   "cell_type": "markdown",
   "metadata": {},
   "source": [
    "公共账户LD lab上已经安装，登录后可以直接调用。 [官方教程](https://docs.conda.io/projects/conda/en/latest/user-guide/tasks/manage-environments.html)"
   ]
  },
  {
   "cell_type": "code",
   "execution_count": null,
   "metadata": {},
   "outputs": [],
   "source": [
    "conda activate qiime2-2020.2 #直接激活最新的qiime2环境"
   ]
  },
  {
   "cell_type": "markdown",
   "metadata": {},
   "source": [
    "其他账号不用安装conda也可以激活并使用公共账户下的conda环境："
   ]
  },
  {
   "cell_type": "code",
   "execution_count": null,
   "metadata": {},
   "outputs": [],
   "source": [
    "source /home/LDlab/BioSoft/anaconda3/bin/activate /home/LDlab/BioSoft/anaconda3/envs/qiime2-2020.2 #需附上具体路径"
   ]
  },
  {
   "cell_type": "markdown",
   "metadata": {},
   "source": [
    "## 换源"
   ]
  },
  {
   "cell_type": "markdown",
   "metadata": {},
   "source": [
    "conda默认源列下载较慢，可考虑换为中国源，加快包的下载。   \n",
    "但国内源有时也不稳定，有可能会失效。"
   ]
  },
  {
   "cell_type": "code",
   "execution_count": 1,
   "metadata": {},
   "outputs": [
    {
     "name": "stdout",
     "output_type": "stream",
     "text": [
      "channels:\n",
      "  - conda-forge\n",
      "  - bioconda\n",
      "  - defaults\n",
      "show_channel_urls: true\n"
     ]
    }
   ],
   "source": [
    "cat ~/.condarc #默认源列表"
   ]
  },
  {
   "cell_type": "markdown",
   "metadata": {},
   "source": [
    "清华源：\n",
    "```shell\n",
    "conda config --add channels https://mirrors.tuna.tsinghua.edu.cn/anaconda/pkgs/free/\n",
    "conda config --add channels https://mirrors.tuna.tsinghua.edu.cn/anaconda/pkgs/main/\n",
    "conda config --add channels https://mirrors.tuna.tsinghua.edu.cn/anaconda/pkgs/r/\n",
    "conda config --add channels https://mirrors.tuna.tsinghua.edu.cn/anaconda/cloud/bioconda/\n",
    "conda config --add channels https://mirrors.tuna.tsinghua.edu.cn/anaconda/cloud/conda-forge/ #失效\n",
    "conda config --set show_channel_urls yes\n",
    "```"
   ]
  },
  {
   "cell_type": "markdown",
   "metadata": {},
   "source": [
    "中科大源:\n",
    "```shell\n",
    "conda config --add channels https://mirrors.ustc.edu.cn/anaconda/pkgs/main/\n",
    "conda config --add channels https://mirrors.ustc.edu.cn/anaconda/pkgs/free/\n",
    "conda config --add channels https://mirrors.ustc.edu.cn/anaconda/cloud/conda-forge/ #失效\n",
    "conda config --add channels https://mirrors.ustc.edu.cn/anaconda/cloud/bioconda/\n",
    "conda config --set show_channel_urls yes\n",
    "```"
   ]
  },
  {
   "cell_type": "markdown",
   "metadata": {},
   "source": [
    "## 环境管理"
   ]
  },
  {
   "cell_type": "markdown",
   "metadata": {},
   "source": [
    "### 安装新环境"
   ]
  },
  {
   "cell_type": "code",
   "execution_count": null,
   "metadata": {},
   "outputs": [],
   "source": [
    "conda create --name myenv"
   ]
  },
  {
   "cell_type": "markdown",
   "metadata": {},
   "source": [
    "### 安装软件包"
   ]
  },
  {
   "cell_type": "markdown",
   "metadata": {},
   "source": [
    "需确认conda上有这个包，可在官网上搜索：https://anaconda.org/ 或直接百度 conda + 需安装的包"
   ]
  },
  {
   "cell_type": "markdown",
   "metadata": {},
   "source": [
    "如搜索：conda bowtie2可到改软件的主页：https://anaconda.org/bioconda/bowtie2 , 里面有详细的安装方法"
   ]
  },
  {
   "cell_type": "code",
   "execution_count": null,
   "metadata": {},
   "outputs": [],
   "source": [
    "conda install -n numpy "
   ]
  },
  {
   "cell_type": "markdown",
   "metadata": {},
   "source": [
    "#### 样例："
   ]
  },
  {
   "cell_type": "code",
   "execution_count": null,
   "metadata": {},
   "outputs": [],
   "source": [
    "conda create --name bowtie2 #创建名为bowtie2环境"
   ]
  },
  {
   "cell_type": "code",
   "execution_count": null,
   "metadata": {},
   "outputs": [],
   "source": [
    "conda install -c bioconda bowtie2 #安装对应bowtie2的包"
   ]
  },
  {
   "cell_type": "markdown",
   "metadata": {},
   "source": [
    "### 导出现有环境"
   ]
  },
  {
   "cell_type": "code",
   "execution_count": null,
   "metadata": {},
   "outputs": [],
   "source": [
    "conda env export > environment.yml #需先激活想导出的环境"
   ]
  },
  {
   "cell_type": "markdown",
   "metadata": {},
   "source": [
    "### 安装导出后的环境"
   ]
  },
  {
   "cell_type": "code",
   "execution_count": null,
   "metadata": {},
   "outputs": [],
   "source": [
    "conda env create -f environment.yml"
   ]
  },
  {
   "cell_type": "markdown",
   "metadata": {},
   "source": [
    "#### 样例："
   ]
  },
  {
   "cell_type": "markdown",
   "metadata": {},
   "source": [
    "下载和安装qiime2环境"
   ]
  },
  {
   "cell_type": "markdown",
   "metadata": {},
   "source": [
    "```shell\n",
    "wget https://data.qiime2.org/distro/core/qiime2-2020.2-py36-linux-conda.yml\n",
    "conda env create -n qiime2-2020.2 --file qiime2-2020.2-py36-linux-conda.yml\n",
    "```"
   ]
  },
  {
   "cell_type": "markdown",
   "metadata": {},
   "source": [
    "### 删除旧环境"
   ]
  },
  {
   "cell_type": "code",
   "execution_count": null,
   "metadata": {},
   "outputs": [],
   "source": [
    "conda remove --name myenv --all"
   ]
  }
 ],
 "metadata": {
  "kernelspec": {
   "display_name": "Bash",
   "language": "bash",
   "name": "bash"
  },
  "language_info": {
   "codemirror_mode": "shell",
   "file_extension": ".sh",
   "mimetype": "text/x-sh",
   "name": "bash"
  }
 },
 "nbformat": 4,
 "nbformat_minor": 4
}
