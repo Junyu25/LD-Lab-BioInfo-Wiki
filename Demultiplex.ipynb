{
 "cells": [
  {
   "cell_type": "markdown",
   "metadata": {},
   "source": [
    "# 数据拆分"
   ]
  },
  {
   "cell_type": "markdown",
   "metadata": {},
   "source": [
    "首先，激活运行环境（vsearch、fastqc、biopython都需要）"
   ]
  },
  {
   "cell_type": "code",
   "execution_count": null,
   "metadata": {},
   "outputs": [],
   "source": [
    "conda activate /home/LDlab/BioSoft/anaconda3/envs/qiime2-2020.2"
   ]
  },
  {
   "cell_type": "markdown",
   "metadata": {},
   "source": [
    "### 步骤一：双端合并："
   ]
  },
  {
   "cell_type": "markdown",
   "metadata": {},
   "source": [
    "```shell\n",
    "vsearch --fastq_mergepairs FILENAME-1 --reverse FILENAME-2 --fastqout FILENAME-out --fastqout_notmerged_fwd FILENAME-a --fastqout_notmerged_rev FILENAME-b 1>log—file 2>>log—file\n",
    "```"
   ]
  },
  {
   "cell_type": "markdown",
   "metadata": {},
   "source": [
    "实际操作例子：在/home/yxtan/qzp_16S_pools/4-22-batch   \n",
    "```shell\n",
    "vsearch --fastq_mergepairs /home/LDlab/quzepeng/已知OD之比测序数据-20200421/QZP1_S1_L001_R1_001.fastq.gz --reverse /home/LDlab/quzepeng/已知OD之比测序数据-20200421/QZP1_S1_L001_R2_001.fastq.gz --fastqout qzp_merged.fq --fastqout_notmerged_fwd qzp_unmapped_1.fq --fastqout_notmerged_rev qzp_unmapped_2.fq 1>vserach_log_qzp.txt 2>>vserach_log_qzp.txt\n",
    "```"
   ]
  },
  {
   "cell_type": "markdown",
   "metadata": {},
   "source": [
    "### 步骤二：拆分样品（根据引物序列的完美匹配）"
   ]
  },
  {
   "cell_type": "markdown",
   "metadata": {},
   "source": [
    "```shell\n",
    "python /home/yxtan/qiime2_custom_scripts/parse_sample_perfectmatch.py -i 合并后的fq路径 -t 每个样品对应的barcode序列 -f 正向引物长度 -r 反向引物长度\n",
    "```"
   ]
  },
  {
   "cell_type": "markdown",
   "metadata": {},
   "source": [
    "实际操作例子：在/home/yxtan/qzp_16S_pools/4-22-batch   \n",
    "从20200420样品信息.xlsx中提取B、D、E三列就是sample_indexes.txt 【为了后续画图等方便，其实B列的数字最好前面用0来补全N位数，这个可以在excel里面弄】（但是一定要删干净，不然会说有不对应的column数；且最后一行不能有回车，也就是不能最后有一行空的行）"
   ]
  },
  {
   "cell_type": "markdown",
   "metadata": {},
   "source": [
    "```shell\n",
    "python /home/yxtan/qiime2_custom_scripts/parse_sample_perfectmatch.py -i qzp_merged.fq -t sample_indexes.txt -f 20 -r 18\n",
    "```"
   ]
  },
  {
   "cell_type": "code",
   "execution_count": null,
   "metadata": {},
   "outputs": [],
   "source": [
    "\"/home/LDlab/BioSoft/Scripts/parse_sample_perfectmatch.py\""
   ]
  },
  {
   "cell_type": "markdown",
   "metadata": {},
   "source": [
    "### 步骤三：拆分样品（根据引物序列的完美匹配）"
   ]
  },
  {
   "cell_type": "markdown",
   "metadata": {},
   "source": [
    "```shell\n",
    "bash /home/yxtan/qzp_16S_pools/data/Bowtie2align_and_feature_extract.sh input_folder input_ref.fa input_ref.bed\n",
    "```"
   ]
  },
  {
   "cell_type": "markdown",
   "metadata": {},
   "source": [
    "实际操作例子：在/home/yxtan/qzp_16S_pools/4-22-batch   \n",
    "22株根际菌.fa可以直接用1-22号菌V5-V7序列信息(删除-).txt的内容   \n",
    "22株根际菌.bed需要从1-22号菌V5-V7序列信息(删除-).txt里面，通过excel里面的len命令生成每个序列对应的长度，从而生成（我没专门写脚本）"
   ]
  },
  {
   "cell_type": "markdown",
   "metadata": {},
   "source": [
    "```shell\n",
    "bash /home/yxtan/qzp_16S_pools/data/Bowtie2align_and_feature_extract.sh parse 22株根际菌.fa 22株根际菌.bed\n",
    "```"
   ]
  },
  {
   "cell_type": "code",
   "execution_count": null,
   "metadata": {},
   "outputs": [],
   "source": [
    "\"/home/LDlab/BioSoft/Scripts/Bowtie2align_and_feature_extract.sh\""
   ]
  },
  {
   "cell_type": "code",
   "execution_count": null,
   "metadata": {},
   "outputs": [],
   "source": [
    "#input1: the folder of fastqs\n",
    "#input2: The fasta file of the refernce region of each strain; the name of strains should be the same as the ones in the bed file\n",
    "#input3: The bed file (must be customized into strains in specific format) and the fasta with bowtie2 index of the refernce strains\n",
    "\n",
    "#output_path: current folder\n",
    "#final output: count_matrix.txt （主要的结果文件）\n",
    "#intermediate outputs: intermediate folder with sam\\bam\\bai of each sample."
   ]
  },
  {
   "cell_type": "code",
   "execution_count": null,
   "metadata": {},
   "outputs": [],
   "source": []
  },
  {
   "cell_type": "code",
   "execution_count": null,
   "metadata": {},
   "outputs": [],
   "source": []
  },
  {
   "cell_type": "markdown",
   "metadata": {},
   "source": [
    "吴璐师姐数据拆分   \n",
    "1.\tjoin_paired_ends.py 序列拼接\n",
    "\n",
    "```shell\n",
    "join_paired_ends.py [options] {-f/--forward_reads_fp FORWARD_READS_FP -r/--reverse_reads_fp REVERSE_READS_FP -o/--output_dir OUTPUT_DIR}\n",
    "```   \n",
    "2.\textract_barcodes.py barcodes提取\n",
    "```shell\n",
    "extract_barcodes.py -f inseqs.fastq -c barcode_single_end --bc1_len 7-o processed_seqs\n",
    "```\n",
    "\n",
    "3.\t制作和验证mapping文件\n",
    "\n",
    "SampleID BarcodeSequence LinkerPrimerSequence Treatment DOB Description\n",
    "可利用模版在excel中修改，然后另存为txt 制表符分开的格式 Tab-delimited .txt\n",
    "然后可以check_id_map.py 检查mapping文件是否正确\n",
    "\n",
    "4.\t样品分割 split_libraries_fastq.py\n",
    "```shell\n",
    "split_libraries_fastq.py -i read.fastq -b barcode.fastq –-barcode_type 7-o slout_q20/ -m map.txt -q 19\n",
    "```\n",
    "\n",
    "```shell\n",
    "qiime > split_libraries_fastq.py -i processing_seqs/reads.fastq -b processing_seqs/barcodes.fastq --barcode_type 7 –o slout_q20/ -m 1_raw_data_group1/mapping_file.txt -q 19\n",
    "```"
   ]
  },
  {
   "cell_type": "code",
   "execution_count": null,
   "metadata": {},
   "outputs": [],
   "source": []
  }
 ],
 "metadata": {
  "kernelspec": {
   "display_name": "Bash",
   "language": "bash",
   "name": "bash"
  },
  "language_info": {
   "codemirror_mode": "shell",
   "file_extension": ".sh",
   "mimetype": "text/x-sh",
   "name": "bash"
  }
 },
 "nbformat": 4,
 "nbformat_minor": 4
}
