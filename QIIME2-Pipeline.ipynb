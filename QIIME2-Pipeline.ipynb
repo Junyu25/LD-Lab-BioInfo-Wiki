{
 "cells": [
  {
   "cell_type": "markdown",
   "metadata": {},
   "source": [
    "# QIIME2 Pipeline"
   ]
  },
  {
   "cell_type": "markdown",
   "metadata": {},
   "source": [
    "### 激活环境"
   ]
  },
  {
   "cell_type": "markdown",
   "metadata": {},
   "source": [
    "`conda activate /home/LDlab/anaconda3/envs/qiime2-2019.04`"
   ]
  },
  {
   "cell_type": "markdown",
   "metadata": {},
   "source": [
    "### 建立样本索引文件"
   ]
  },
  {
   "cell_type": "markdown",
   "metadata": {},
   "source": [
    "建立样本索引文件（注：文件名不能有多余的下划线，否则qiime2后续分析会报错）  \n",
    "`python /home/yxtan/YT_scripts/fq_sample_table_generate.py -i abs_path_raw_fq_folder`"
   ]
  },
  {
   "cell_type": "code",
   "execution_count": 5,
   "metadata": {},
   "outputs": [
    {
     "name": "stdout",
     "output_type": "stream",
     "text": [
      "usage: fq_sample_table_generate.py [-h] -i RD [-e PAIR] [-F SP1] [-R SP2]\n",
      "                                   [-N SPN] [-o OUTN]\n",
      "\n",
      "optional arguments:\n",
      "  -h, --help            show this help message and exit\n",
      "  -i RD, --input RD     the path of folder with raw fqs\n",
      "  -e PAIR, --pair PAIR  Is it pair-end seq data? Default is 'True'; Any other\n",
      "                        strings will be considered False\n",
      "  -F SP1, --sepF SP1    It is the seperator to recognize the forward info,\n",
      "                        default='R1'; for single end, should use 'fq' or\n",
      "                        similar.\n",
      "  -R SP2, --sepR SP2    It is the seperator to recognize the reverse info\n",
      "  -N SPN, --sepN SPN    It is the seperator to recognize the sample name\n",
      "  -o OUTN, --output OUTN\n",
      "                        The name of outputfile\n"
     ]
    }
   ],
   "source": [
    "python /home/yxtan/YT_scripts/fq_sample_table_generate.py -h"
   ]
  },
  {
   "cell_type": "markdown",
   "metadata": {},
   "source": [
    "### 实例"
   ]
  },
  {
   "cell_type": "code",
   "execution_count": 1,
   "metadata": {},
   "outputs": [
    {
     "name": "stdout",
     "output_type": "stream",
     "text": [
      "C1L_S197_L001_R1_001.fastq.gz\tCR2L_S196_L001_R1_001.fastq.gz\n",
      "C1L_S197_L001_R2_001.fastq.gz\tCR2L_S196_L001_R2_001.fastq.gz\n",
      "C2L_S198_L001_R1_001.fastq.gz\tS1L_S199_L001_R1_001.fastq.gz\n",
      "C2L_S198_L001_R2_001.fastq.gz\tS1L_S199_L001_R2_001.fastq.gz\n",
      "CR1L_S195_L001_R1_001.fastq.gz\tS2L_S200_L001_R1_001.fastq.gz\n",
      "CR1L_S195_L001_R2_001.fastq.gz\tS2L_S200_L001_R2_001.fastq.gz\n"
     ]
    }
   ],
   "source": [
    "ls /home/junyuchen/Lab/Amplicon-SOP/zzk/rawdata_new"
   ]
  },
  {
   "cell_type": "code",
   "execution_count": 4,
   "metadata": {},
   "outputs": [
    {
     "name": "stdout",
     "output_type": "stream",
     "text": [
      "Usage example with minimum parameters:   -i abs_path_raw_fq_folder\n",
      "/home/junyuchen/Lab/Amplicon-SOP/zzk/rawdata\n",
      "R1\n",
      "R2\n",
      "_\n",
      "sample_table.txt\n"
     ]
    }
   ],
   "source": [
    "python /home/junyuchen/Lab/Amplicon-SOP/fq_sample_table_generate.py -i /home/junyuchen/Lab/Amplicon-SOP/zzk/rawdata"
   ]
  },
  {
   "cell_type": "code",
   "execution_count": 5,
   "metadata": {},
   "outputs": [
    {
     "name": "stdout",
     "output_type": "stream",
     "text": [
      "#SampleID\tforward-absolute-filepath\treverse-absolute-filepath\n",
      "C1L\t/home/junyuchen/Lab/Amplicon-SOP/zzk/rawdata/C1L_S197_L001_R1_001.fastq.gz\t/home/junyuchen/Lab/Amplicon-SOP/zzk/rawdata/C1L_S197_L001_R2_001.fastq.gz\n",
      "S2L\t/home/junyuchen/Lab/Amplicon-SOP/zzk/rawdata/S2L_S200_L001_R1_001.fastq.gz\t/home/junyuchen/Lab/Amplicon-SOP/zzk/rawdata/S2L_S200_L001_R2_001.fastq.gz\n",
      "C2L\t/home/junyuchen/Lab/Amplicon-SOP/zzk/rawdata/C2L_S198_L001_R1_001.fastq.gz\t/home/junyuchen/Lab/Amplicon-SOP/zzk/rawdata/C2L_S198_L001_R2_001.fastq.gz\n",
      "CR2L\t/home/junyuchen/Lab/Amplicon-SOP/zzk/rawdata/CR2L_S196_L001_R1_001.fastq.gz\t/home/junyuchen/Lab/Amplicon-SOP/zzk/rawdata/CR2L_S196_L001_R2_001.fastq.gz\n",
      "CR1L\t/home/junyuchen/Lab/Amplicon-SOP/zzk/rawdata/CR1L_S195_L001_R2_001.fastq.gz\t/home/junyuchen/Lab/Amplicon-SOP/zzk/rawdata/CR2L_S195_L001_R2_001.fastq.gz\n",
      "S1L\t/home/junyuchen/Lab/Amplicon-SOP/zzk/rawdata/S1L_S199_L001_R1_001.fastq.gz\t/home/junyuchen/Lab/Amplicon-SOP/zzk/rawdata/S1L_S199_L001_R2_001.fastq.gz\n",
      "CR1L\t/home/junyuchen/Lab/Amplicon-SOP/zzk/rawdata/CR1L_S195_L001_R1_001.fastq.gz\t/home/junyuchen/Lab/Amplicon-SOP/zzk/rawdata/CR2L_S195_L001_R1_001.fastq.gz\n"
     ]
    }
   ],
   "source": [
    "head sample_table.txt"
   ]
  },
  {
   "cell_type": "markdown",
   "metadata": {},
   "source": [
    "### 祛除引物和质控"
   ]
  },
  {
   "cell_type": "markdown",
   "metadata": {},
   "source": [
    "祛除引物和质控   \n",
    "`python /home/yxtan/qiime2_custom_scripts/QIIME2_fq_preprocess.py -i sample_table.txt`   \n",
    "上步建立的索引文件（sample_table) 【当然，可以自己手动生成也行】 "
   ]
  },
  {
   "cell_type": "code",
   "execution_count": 3,
   "metadata": {},
   "outputs": [
    {
     "name": "stdout",
     "output_type": "stream",
     "text": [
      "usage: QIIME2_fq_preprocess.py [-h] -i RD [-n NODE] [-sp SP] [-fp FP] [-rp RP]\n",
      "                               [-e PAIR]\n",
      "\n",
      "optional arguments:\n",
      "  -h, --help            show this help message and exit\n",
      "  -i RD, --input RD     the tabular-table contains paths of the raw data\n",
      "  -n NODE, --node NODE  the number of nodes to request\n",
      "  -sp SP, --spath SP    path of the custom scripts\n",
      "  -fp FP, --primerf FP  the seq of forward primer\n",
      "  -rp RP, --primerr RP  the seq of reverse primer\n",
      "  -e PAIR, --pair PAIR  Is it pair-end seq data? Default is 'True'; Any other\n",
      "                        strings will be considered False\n"
     ]
    }
   ],
   "source": [
    "python /home/yxtan/qiime2_custom_scripts/QIIME2_fq_preprocess.py -h"
   ]
  },
  {
   "cell_type": "markdown",
   "metadata": {},
   "source": [
    "### 实例"
   ]
  },
  {
   "cell_type": "markdown",
   "metadata": {},
   "source": [
    "PCR1-F：TCGTCGGCAGCGTC  AGATGTGTATAAGACAG  CCTACGGGNGGCWGCAG   \n",
    "PCR2-R：GTCTCGTGGGCTCGG  AGATGTGTATAAGACAG GACTACHVGGGTATCTAATCC"
   ]
  },
  {
   "cell_type": "code",
   "execution_count": null,
   "metadata": {},
   "outputs": [],
   "source": [
    "python /home/junyuchen/Lab/Amplicon-SOP/QIIME2_fq_preprocess.py -i sample_table.txt -fp TCGTCGGCAGCGTC -rp GTCTCGTGGGCTCGG -n 16"
   ]
  },
  {
   "cell_type": "code",
   "execution_count": 3,
   "metadata": {},
   "outputs": [
    {
     "name": "stdout",
     "output_type": "stream",
     "text": [
      "C1L_S197_L001_R1_001.fastq.gz\tCR2L_S196_L001_R1_001.fastq.gz\n",
      "C1L_S197_L001_R2_001.fastq.gz\tCR2L_S196_L001_R2_001.fastq.gz\n",
      "C2L_S198_L001_R1_001.fastq.gz\tfastqc_out\n",
      "C2L_S198_L001_R2_001.fastq.gz\tS1L_S199_L001_R1_001.fastq.gz\n",
      "CR1L_S195_L001_R1_001.fastq.gz\tS1L_S199_L001_R2_001.fastq.gz\n",
      "CR1L_S195_L001_R2_001.fastq.gz\tS2L_S200_L001_R1_001.fastq.gz\n",
      "CR2L_S195_L001_R1_001.fastq.gz\tS2L_S200_L001_R2_001.fastq.gz\n",
      "CR2L_S195_L001_R2_001.fastq.gz\n"
     ]
    }
   ],
   "source": [
    "ls /home/junyuchen/Lab/Amplicon-SOP/zzk/primer_trimmed_fastqs"
   ]
  },
  {
   "cell_type": "markdown",
   "metadata": {},
   "source": [
    "### 为质控后的数据建立索引文件"
   ]
  },
  {
   "cell_type": "markdown",
   "metadata": {},
   "source": [
    "再建立新的样本索引文件   \n",
    "把需要分析的数据文件放到同一个文件夹下面（直接用去了引物的）  \n",
    "`python /home/yxtan/YT_scripts/fq_sample_table_generate.py -i abs_path_raw_fq_folder`   \n",
    "索引文件会自动生成在当前文件夹"
   ]
  },
  {
   "cell_type": "code",
   "execution_count": null,
   "metadata": {},
   "outputs": [],
   "source": [
    "python /home/junyuchen/Lab/Amplicon-SOP/fq_sample_table_generate.py -i /home/junyuchen/Lab/Amplicon-SOP/zzk/primer_trimmed_fastqs -N _L001"
   ]
  },
  {
   "cell_type": "code",
   "execution_count": 6,
   "metadata": {},
   "outputs": [
    {
     "name": "stdout",
     "output_type": "stream",
     "text": [
      "#SampleID\tforward-absolute-filepath\treverse-absolute-filepath\n",
      "C1L_S197\t/home/junyuchen/Lab/Amplicon-SOP/zzk/primer_trimmed_fastqs/C1L_S197_L001_R1_001.fastq.gz\t/home/junyuchen/Lab/Amplicon-SOP/zzk/primer_trimmed_fastqs/C1L_S197_L001_R2_001.fastq.gz\n",
      "S2L_S200\t/home/junyuchen/Lab/Amplicon-SOP/zzk/primer_trimmed_fastqs/S2L_S200_L001_R1_001.fastq.gz\t/home/junyuchen/Lab/Amplicon-SOP/zzk/primer_trimmed_fastqs/S2L_S200_L001_R2_001.fastq.gz\n",
      "C2L_S198\t/home/junyuchen/Lab/Amplicon-SOP/zzk/primer_trimmed_fastqs/C2L_S198_L001_R1_001.fastq.gz\t/home/junyuchen/Lab/Amplicon-SOP/zzk/primer_trimmed_fastqs/C2L_S198_L001_R2_001.fastq.gz\n",
      "CR2L_S196\t/home/junyuchen/Lab/Amplicon-SOP/zzk/primer_trimmed_fastqs/CR2L_S196_L001_R1_001.fastq.gz\t/home/junyuchen/Lab/Amplicon-SOP/zzk/primer_trimmed_fastqs/CR2L_S196_L001_R2_001.fastq.gz\n",
      "CR2L_S195\t/home/junyuchen/Lab/Amplicon-SOP/zzk/primer_trimmed_fastqs/CR2L_S195_L001_R1_001.fastq.gz\t/home/junyuchen/Lab/Amplicon-SOP/zzk/primer_trimmed_fastqs/CR2L_S195_L001_R2_001.fastq.gz\n",
      "CR1L_S195\t/home/junyuchen/Lab/Amplicon-SOP/zzk/primer_trimmed_fastqs/CR1L_S195_L001_R2_001.fastq.gz\t/home/junyuchen/Lab/Amplicon-SOP/zzk/primer_trimmed_fastqs/CR2L_S195_L001_R2_001.fastq.gz\n",
      "S1L_S199\t/home/junyuchen/Lab/Amplicon-SOP/zzk/primer_trimmed_fastqs/S1L_S199_L001_R1_001.fastq.gz\t/home/junyuchen/Lab/Amplicon-SOP/zzk/primer_trimmed_fastqs/S1L_S199_L001_R2_001.fastq.gz\n",
      "CR1L_S195\t/home/junyuchen/Lab/Amplicon-SOP/zzk/primer_trimmed_fastqs/CR1L_S195_L001_R1_001.fastq.gz\t/home/junyuchen/Lab/Amplicon-SOP/zzk/primer_trimmed_fastqs/CR2L_S195_L001_R1_001.fastq.gz\n"
     ]
    }
   ],
   "source": [
    "head /home/junyuchen/Lab/Amplicon-SOP/zzk/primer_trimmed_fastqs/sample_table.txt"
   ]
  },
  {
   "cell_type": "markdown",
   "metadata": {},
   "source": [
    "### QIIME2 Pipeline"
   ]
  },
  {
   "cell_type": "markdown",
   "metadata": {},
   "source": [
    "激活环境：  \n",
    "`source activate /home/yxtan/.conda/envs/qiime2-2019.4`  \n",
    "`conda activate /home/LDlab/anaconda3/envs/qiime2-2019.04`   \n",
    "运行：   \n",
    "`python /home/yxtan/qiime2_custom_scripts/QIIME2_workflow.py`\n",
    "* -i sample_table.txt （索引文件）\n",
    "* --pair True （是否双端数据）\n",
    "* -fl 249 -rl 237 （前后测序长度）\n",
    "* -r /home/yxtan/SILVA_132_SSURef_Nr99/SILVA_132_SSURef_Nr99_tax_silva_B337af_B787cr.qza （train后的参考数据库） \n",
    "* -md /home/yxtan/test2/metadata_categorical.txt （样品分组注释文件）【该文件的第一列和sample_table的第一列一致并且没有内部重复的就可以了，不需要有明确含义。】\n",
    "* -n 20 （并行任务数量）\n",
    "\n",
    "还有其他一些辅助可选参数，具体情况具体设置   \n",
    "注意：因为QIIME2涉及比较大的临时空间，所以要把“export TMPDIR=~/tmp”这一句加到~/.bashrc里面，而且要mkdir ~/tmp 以保证这个文件夹的存在，否则在运行过程中可能会报错。\n"
   ]
  },
  {
   "cell_type": "code",
   "execution_count": 4,
   "metadata": {},
   "outputs": [
    {
     "name": "stdout",
     "output_type": "stream",
     "text": [
      "usage: QIIME2_workflow.py [-h] -i RD [-n NODE] -r RF [-sp SP] -fl FL -rl RL\n",
      "                          -md MD [-fr FR] [-ad AD] [-id ID] [-fp FP] [-rp RP]\n",
      "                          [-a A] [-tl TL] [-tr1 TR1] [-tr2 TR2] [-e PAIR]\n",
      "                          [-mo MINO]\n",
      "\n",
      "optional arguments:\n",
      "  -h, --help            show this help message and exit\n",
      "  -i RD, --input RD     the tabular-table contains paths of the raw data\n",
      "  -n NODE, --node NODE  the number of nodes to request\n",
      "  -r RF, --ref RF       paht of the reference based classification model file\n",
      "  -sp SP, --spath SP    path of the custom scripts\n",
      "  -fl FL, --forwardlen FL\n",
      "                        the length of forward primer\n",
      "  -rl RL, --reverselen RL\n",
      "                        the length of reverse primer\n",
      "  -md MD, --metadata MD\n",
      "                        the path of the metadata file, it must contain only\n",
      "                        the categorical columns, or the plotting part of the\n",
      "                        workflow will give alarm\n",
      "  -fr FR, --freq FR     the frequence used to do rare ASV filter, default is\n",
      "                        using auto-dection of 0.001 from mean frequency\n",
      "  -ad AD, --deptha AD   the depth used for rarefaction, generally should used\n",
      "                        the maximum depth from the summary plot, which by\n",
      "                        default will be auto detected. User can manually input\n",
      "                        the desired number bigger than 0.\n",
      "  -id ID, --depthi ID   the depth used for PCoA, generally should used the\n",
      "                        minimum depth from the summary plot, which by default\n",
      "                        will be auto detected. User can manually input the\n",
      "                        desired number bigger than 0.However, samples with\n",
      "                        depth below this cut-off will be excluded\n",
      "  -fp FP, --primerf FP  the seq of forward primer\n",
      "  -rp RP, --primerr RP  the seq of reverse primer\n",
      "  -a A, --aligner A     the user can choose what aligners to use, default is\n",
      "                        using both deblur and dada2. Otherwise,you can type in\n",
      "                        only 'deblur' or 'dada2' as option. Other typeins will\n",
      "                        all be consider both\n",
      "  -tl TL, --trimelen TL\n",
      "                        the user defined trim length for deblur, which must be\n",
      "                        bigger than the auto detection. The default is using\n",
      "                        auto-detect 2 percent length after quality filtering.\n",
      "  -tr1 TR1, --truncR1 TR1\n",
      "                        the length to be trunc in dada2 after cutadapt on the\n",
      "                        1st end, only use it when you want to trim the low\n",
      "                        quality reads at the 3 end. The default is doing no\n",
      "                        trimming. Or you can use an extreme large number to\n",
      "                        activate using the full length and filter the short\n",
      "                        reads.\n",
      "  -tr2 TR2, --truncR2 TR2\n",
      "                        the length to be trunc in dada2 after cutadapt on the\n",
      "                        2nd end, only use it when you want to trim the low\n",
      "                        quality reads at the 3 end. The default is doing no\n",
      "                        trimming. Or you can use an extreme large number to\n",
      "                        activate using the full length and filter the short\n",
      "                        reads.\n",
      "  -e PAIR, --pair PAIR  Is it pair-end seq data? Default is 'True'; Any other\n",
      "                        strings will be considered False\n",
      "  -mo MINO, --minOL MINO\n",
      "                        The min overlap allowed for dada2, default is 12\n"
     ]
    }
   ],
   "source": [
    "python /home/yxtan/qiime2_custom_scripts/QIIME2_workflow.py -h"
   ]
  },
  {
   "cell_type": "markdown",
   "metadata": {},
   "source": [
    "```shell\n",
    "python /home/yxtan/qiime2_custom_scripts/QIIME2_workflow.py -i /home/junyuchen/Lab/Amplicon-SOP/zzk/primer_trimmed_fastqs/sample_table.txt -fl 249 -rl 237 -r /home/yxtan/SILVA_132_SSURef_Nr99/SILVA_132_SSURef_Nr99_tax_silva_B337af_B787cr.qza -md /home/junyuchen/Lab/Amplicon-SOP/zzk/primer_trimmed_fastqs/metadata_categorical.txt -n 20\n",
    "```"
   ]
  },
  {
   "cell_type": "markdown",
   "metadata": {},
   "source": [
    "### 输出"
   ]
  },
  {
   "cell_type": "markdown",
   "metadata": {},
   "source": [
    "都在dada2_output或者deblur_output里的output_exported里   \n",
    "* feature-table_w_tax.txt（包含了表达信息以及taxonomy的信息【第一列是otuID、最后一列是用“;”串起来的taxonomy名字，中间是表达量】）\n",
    "* rooted_tree里的tree.nwk，包含了进化树信息\n"
   ]
  },
  {
   "cell_type": "markdown",
   "metadata": {},
   "source": [
    "通用输入：\n",
    "feature-table：第一列是数字ID、最后一列是注释信息，中间是表达量，且第一行是无#号的表头。\n",
    "metatable_R：以输入16S的格式为基础，把第一行表头的#号以及第二行注释删掉。(控制下游分析内容的主要开关）\n",
    "sample_name_anno: 第一列为和metatable_R的第一列匹配的样品ID，第二列为feature-table里面的样品名（通过这个方式，可以更简单地重新定义我们想要地画图里面的样品命名方式。）\n",
    "和树结构有关的分析：(un)weighted PCOA\n",
    "tree.nwk，包含了进化树信息，目前只有16S的结果有提供\n",
    "\n"
   ]
  },
  {
   "cell_type": "markdown",
   "metadata": {},
   "source": [
    "### Sample metadata"
   ]
  },
  {
   "cell_type": "code",
   "execution_count": null,
   "metadata": {},
   "outputs": [],
   "source": [
    "python /home/yxtan/YT_scripts/fq_sample_table_generate.py -i /home/junyuchen/Lab/Amplicon-SOP/QIIME2/mimb_16S/sequence_data/import_to_qiime"
   ]
  },
  {
   "cell_type": "code",
   "execution_count": null,
   "metadata": {},
   "outputs": [],
   "source": [
    "python /home/yxtan/qiime2_custom_scripts/QIIME2_workflow.py -i ../QIIME2-Pipline/sample_table.txt --pair True -fl 151 -rl 151 -r /home/yxtan/SILVA_132_SSURef_Nr99/SILVA_132_SSURef_Nr99_tax_silva_B337af_B787cr.qza -md ./metadata.txt -n 20"
   ]
  },
  {
   "cell_type": "code",
   "execution_count": null,
   "metadata": {},
   "outputs": [],
   "source": [
    "/home/junyuchen/Lab/Amplicon-SOP/QIIME2/mimb_16S/sequence_data/import_to_qiime/MANIFEST"
   ]
  }
 ],
 "metadata": {
  "kernelspec": {
   "display_name": "Bash",
   "language": "bash",
   "name": "bash"
  },
  "language_info": {
   "codemirror_mode": "shell",
   "file_extension": ".sh",
   "mimetype": "text/x-sh",
   "name": "bash"
  }
 },
 "nbformat": 4,
 "nbformat_minor": 4
}
