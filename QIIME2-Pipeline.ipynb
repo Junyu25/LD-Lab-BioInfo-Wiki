{
 "cells": [
  {
   "cell_type": "markdown",
   "metadata": {},
   "source": [
    "# QIIME2 Pipeline"
   ]
  },
  {
   "cell_type": "markdown",
   "metadata": {},
   "source": [
    "### 激活环境"
   ]
  },
  {
   "cell_type": "markdown",
   "metadata": {},
   "source": [
    "`conda activate /home/LDlab/anaconda3/envs/qiime2-2019.4`"
   ]
  },
  {
   "cell_type": "markdown",
   "metadata": {},
   "source": [
    "### 建立样本索引文件"
   ]
  },
  {
   "cell_type": "markdown",
   "metadata": {},
   "source": [
    "建立样本索引文件（注：文件名不能有多余的下划线，否则qiime2后续分析会报错）  \n",
    "`python /home/yxtan/YT_scripts/fq_sample_table_generate.py -i abs_path_raw_fq_folder`"
   ]
  },
  {
   "cell_type": "code",
   "execution_count": 5,
   "metadata": {},
   "outputs": [
    {
     "name": "stdout",
     "output_type": "stream",
     "text": [
      "usage: fq_sample_table_generate.py [-h] -i RD [-e PAIR] [-F SP1] [-R SP2]\n",
      "                                   [-N SPN] [-o OUTN]\n",
      "\n",
      "optional arguments:\n",
      "  -h, --help            show this help message and exit\n",
      "  -i RD, --input RD     the path of folder with raw fqs\n",
      "  -e PAIR, --pair PAIR  Is it pair-end seq data? Default is 'True'; Any other\n",
      "                        strings will be considered False\n",
      "  -F SP1, --sepF SP1    It is the seperator to recognize the forward info,\n",
      "                        default='R1'; for single end, should use 'fq' or\n",
      "                        similar.\n",
      "  -R SP2, --sepR SP2    It is the seperator to recognize the reverse info\n",
      "  -N SPN, --sepN SPN    It is the seperator to recognize the sample name\n",
      "  -o OUTN, --output OUTN\n",
      "                        The name of outputfile\n"
     ]
    }
   ],
   "source": [
    "python /home/yxtan/YT_scripts/fq_sample_table_generate.py -h"
   ]
  },
  {
   "cell_type": "markdown",
   "metadata": {},
   "source": [
    "### 实例"
   ]
  },
  {
   "cell_type": "code",
   "execution_count": 1,
   "metadata": {},
   "outputs": [
    {
     "name": "stdout",
     "output_type": "stream",
     "text": [
      "C1L_S197_L001_R1_001.fastq.gz\tCR2L_S196_L001_R1_001.fastq.gz\n",
      "C1L_S197_L001_R2_001.fastq.gz\tCR2L_S196_L001_R2_001.fastq.gz\n",
      "C2L_S198_L001_R1_001.fastq.gz\tS1L_S199_L001_R1_001.fastq.gz\n",
      "C2L_S198_L001_R2_001.fastq.gz\tS1L_S199_L001_R2_001.fastq.gz\n",
      "CR1L_S195_L001_R1_001.fastq.gz\tS2L_S200_L001_R1_001.fastq.gz\n",
      "CR1L_S195_L001_R2_001.fastq.gz\tS2L_S200_L001_R2_001.fastq.gz\n"
     ]
    }
   ],
   "source": [
    "ls /home/junyuchen/Lab/Amplicon-SOP/zzk/rawdata_new"
   ]
  },
  {
   "cell_type": "code",
   "execution_count": 4,
   "metadata": {},
   "outputs": [
    {
     "name": "stdout",
     "output_type": "stream",
     "text": [
      "Usage example with minimum parameters:   -i abs_path_raw_fq_folder\n",
      "/home/junyuchen/Lab/Amplicon-SOP/zzk/rawdata\n",
      "R1\n",
      "R2\n",
      "_\n",
      "sample_table.txt\n"
     ]
    }
   ],
   "source": [
    "python /home/junyuchen/Lab/Amplicon-SOP/fq_sample_table_generate.py -i /home/junyuchen/Lab/Amplicon-SOP/zzk/rawdata"
   ]
  },
  {
   "cell_type": "code",
   "execution_count": 5,
   "metadata": {
    "collapsed": true,
    "jupyter": {
     "outputs_hidden": true
    }
   },
   "outputs": [
    {
     "name": "stdout",
     "output_type": "stream",
     "text": [
      "#SampleID\tforward-absolute-filepath\treverse-absolute-filepath\n",
      "C1L\t/home/junyuchen/Lab/Amplicon-SOP/zzk/rawdata/C1L_S197_L001_R1_001.fastq.gz\t/home/junyuchen/Lab/Amplicon-SOP/zzk/rawdata/C1L_S197_L001_R2_001.fastq.gz\n",
      "S2L\t/home/junyuchen/Lab/Amplicon-SOP/zzk/rawdata/S2L_S200_L001_R1_001.fastq.gz\t/home/junyuchen/Lab/Amplicon-SOP/zzk/rawdata/S2L_S200_L001_R2_001.fastq.gz\n",
      "C2L\t/home/junyuchen/Lab/Amplicon-SOP/zzk/rawdata/C2L_S198_L001_R1_001.fastq.gz\t/home/junyuchen/Lab/Amplicon-SOP/zzk/rawdata/C2L_S198_L001_R2_001.fastq.gz\n",
      "CR2L\t/home/junyuchen/Lab/Amplicon-SOP/zzk/rawdata/CR2L_S196_L001_R1_001.fastq.gz\t/home/junyuchen/Lab/Amplicon-SOP/zzk/rawdata/CR2L_S196_L001_R2_001.fastq.gz\n",
      "CR1L\t/home/junyuchen/Lab/Amplicon-SOP/zzk/rawdata/CR1L_S195_L001_R2_001.fastq.gz\t/home/junyuchen/Lab/Amplicon-SOP/zzk/rawdata/CR2L_S195_L001_R2_001.fastq.gz\n",
      "S1L\t/home/junyuchen/Lab/Amplicon-SOP/zzk/rawdata/S1L_S199_L001_R1_001.fastq.gz\t/home/junyuchen/Lab/Amplicon-SOP/zzk/rawdata/S1L_S199_L001_R2_001.fastq.gz\n",
      "CR1L\t/home/junyuchen/Lab/Amplicon-SOP/zzk/rawdata/CR1L_S195_L001_R1_001.fastq.gz\t/home/junyuchen/Lab/Amplicon-SOP/zzk/rawdata/CR2L_S195_L001_R1_001.fastq.gz\n"
     ]
    }
   ],
   "source": [
    "head sample_table.txt"
   ]
  },
  {
   "cell_type": "markdown",
   "metadata": {},
   "source": [
    "### 祛除引物和质控"
   ]
  },
  {
   "cell_type": "markdown",
   "metadata": {},
   "source": [
    "祛除引物和质控   \n",
    "`python /home/yxtan/qiime2_custom_scripts/QIIME2_fq_preprocess.py -i sample_table.txt`   \n",
    "上步建立的索引文件（sample_table) 【当然，可以自己手动生成也行】 "
   ]
  },
  {
   "cell_type": "code",
   "execution_count": 3,
   "metadata": {},
   "outputs": [
    {
     "name": "stdout",
     "output_type": "stream",
     "text": [
      "usage: QIIME2_fq_preprocess.py [-h] -i RD [-n NODE] [-sp SP] [-fp FP] [-rp RP]\n",
      "                               [-e PAIR]\n",
      "\n",
      "optional arguments:\n",
      "  -h, --help            show this help message and exit\n",
      "  -i RD, --input RD     the tabular-table contains paths of the raw data\n",
      "  -n NODE, --node NODE  the number of nodes to request\n",
      "  -sp SP, --spath SP    path of the custom scripts\n",
      "  -fp FP, --primerf FP  the seq of forward primer\n",
      "  -rp RP, --primerr RP  the seq of reverse primer\n",
      "  -e PAIR, --pair PAIR  Is it pair-end seq data? Default is 'True'; Any other\n",
      "                        strings will be considered False\n"
     ]
    }
   ],
   "source": [
    "python /home/yxtan/qiime2_custom_scripts/QIIME2_fq_preprocess.py -h"
   ]
  },
  {
   "cell_type": "markdown",
   "metadata": {},
   "source": [
    "### 实例"
   ]
  },
  {
   "cell_type": "markdown",
   "metadata": {},
   "source": [
    "PCR1-F：TCGTCGGCAGCGTC  AGATGTGTATAAGACAG  CCTACGGGNGGCWGCAG   \n",
    "PCR2-R：GTCTCGTGGGCTCGG  AGATGTGTATAAGACAG GACTACHVGGGTATCTAATCC"
   ]
  },
  {
   "cell_type": "code",
   "execution_count": null,
   "metadata": {},
   "outputs": [],
   "source": [
    "python /home/junyuchen/Lab/Amplicon-SOP/QIIME2_fq_preprocess.py -i sample_table.txt -fp TCGTCGGCAGCGTC -rp GTCTCGTGGGCTCGG -n 16"
   ]
  },
  {
   "cell_type": "code",
   "execution_count": 3,
   "metadata": {},
   "outputs": [
    {
     "name": "stdout",
     "output_type": "stream",
     "text": [
      "C1L_S197_L001_R1_001.fastq.gz\tCR2L_S196_L001_R1_001.fastq.gz\n",
      "C1L_S197_L001_R2_001.fastq.gz\tCR2L_S196_L001_R2_001.fastq.gz\n",
      "C2L_S198_L001_R1_001.fastq.gz\tfastqc_out\n",
      "C2L_S198_L001_R2_001.fastq.gz\tS1L_S199_L001_R1_001.fastq.gz\n",
      "CR1L_S195_L001_R1_001.fastq.gz\tS1L_S199_L001_R2_001.fastq.gz\n",
      "CR1L_S195_L001_R2_001.fastq.gz\tS2L_S200_L001_R1_001.fastq.gz\n",
      "CR2L_S195_L001_R1_001.fastq.gz\tS2L_S200_L001_R2_001.fastq.gz\n",
      "CR2L_S195_L001_R2_001.fastq.gz\n"
     ]
    }
   ],
   "source": [
    "ls /home/junyuchen/Lab/Amplicon-SOP/zzk/primer_trimmed_fastqs"
   ]
  },
  {
   "cell_type": "markdown",
   "metadata": {},
   "source": [
    "### 为质控后的数据建立索引文件"
   ]
  },
  {
   "cell_type": "markdown",
   "metadata": {},
   "source": [
    "再建立新的样本索引文件   \n",
    "把需要分析的数据文件放到同一个文件夹下面（直接用去了引物的）  \n",
    "`python /home/yxtan/YT_scripts/fq_sample_table_generate.py -i abs_path_raw_fq_folder`   \n",
    "索引文件会自动生成在当前文件夹"
   ]
  },
  {
   "cell_type": "code",
   "execution_count": null,
   "metadata": {},
   "outputs": [],
   "source": [
    "python /home/junyuchen/Lab/Amplicon-SOP/fq_sample_table_generate.py -i /home/junyuchen/Lab/Amplicon-SOP/zzk/primer_trimmed_fastqs -N _L001"
   ]
  },
  {
   "cell_type": "code",
   "execution_count": 6,
   "metadata": {
    "collapsed": true,
    "jupyter": {
     "outputs_hidden": true
    }
   },
   "outputs": [
    {
     "name": "stdout",
     "output_type": "stream",
     "text": [
      "#SampleID\tforward-absolute-filepath\treverse-absolute-filepath\n",
      "C1L_S197\t/home/junyuchen/Lab/Amplicon-SOP/zzk/primer_trimmed_fastqs/C1L_S197_L001_R1_001.fastq.gz\t/home/junyuchen/Lab/Amplicon-SOP/zzk/primer_trimmed_fastqs/C1L_S197_L001_R2_001.fastq.gz\n",
      "S2L_S200\t/home/junyuchen/Lab/Amplicon-SOP/zzk/primer_trimmed_fastqs/S2L_S200_L001_R1_001.fastq.gz\t/home/junyuchen/Lab/Amplicon-SOP/zzk/primer_trimmed_fastqs/S2L_S200_L001_R2_001.fastq.gz\n",
      "C2L_S198\t/home/junyuchen/Lab/Amplicon-SOP/zzk/primer_trimmed_fastqs/C2L_S198_L001_R1_001.fastq.gz\t/home/junyuchen/Lab/Amplicon-SOP/zzk/primer_trimmed_fastqs/C2L_S198_L001_R2_001.fastq.gz\n",
      "CR2L_S196\t/home/junyuchen/Lab/Amplicon-SOP/zzk/primer_trimmed_fastqs/CR2L_S196_L001_R1_001.fastq.gz\t/home/junyuchen/Lab/Amplicon-SOP/zzk/primer_trimmed_fastqs/CR2L_S196_L001_R2_001.fastq.gz\n",
      "CR2L_S195\t/home/junyuchen/Lab/Amplicon-SOP/zzk/primer_trimmed_fastqs/CR2L_S195_L001_R1_001.fastq.gz\t/home/junyuchen/Lab/Amplicon-SOP/zzk/primer_trimmed_fastqs/CR2L_S195_L001_R2_001.fastq.gz\n",
      "CR1L_S195\t/home/junyuchen/Lab/Amplicon-SOP/zzk/primer_trimmed_fastqs/CR1L_S195_L001_R2_001.fastq.gz\t/home/junyuchen/Lab/Amplicon-SOP/zzk/primer_trimmed_fastqs/CR2L_S195_L001_R2_001.fastq.gz\n",
      "S1L_S199\t/home/junyuchen/Lab/Amplicon-SOP/zzk/primer_trimmed_fastqs/S1L_S199_L001_R1_001.fastq.gz\t/home/junyuchen/Lab/Amplicon-SOP/zzk/primer_trimmed_fastqs/S1L_S199_L001_R2_001.fastq.gz\n",
      "CR1L_S195\t/home/junyuchen/Lab/Amplicon-SOP/zzk/primer_trimmed_fastqs/CR1L_S195_L001_R1_001.fastq.gz\t/home/junyuchen/Lab/Amplicon-SOP/zzk/primer_trimmed_fastqs/CR2L_S195_L001_R1_001.fastq.gz\n"
     ]
    }
   ],
   "source": [
    "head /home/junyuchen/Lab/Amplicon-SOP/zzk/primer_trimmed_fastqs/sample_table.txt"
   ]
  },
  {
   "cell_type": "markdown",
   "metadata": {},
   "source": [
    "### QIIME2 Pipeline"
   ]
  },
  {
   "cell_type": "markdown",
   "metadata": {},
   "source": [
    "激活环境：  \n",
    "`source activate /home/yxtan/.conda/envs/qiime2-2019.4`  \n",
    "`conda activate /home/LDlab/anaconda3/envs/qiime2-2019.4`   \n",
    "运行：   \n",
    "`python /home/yxtan/qiime2_custom_scripts/QIIME2_workflow.py`\n",
    "* -i sample_table.txt （索引文件）\n",
    "* --pair True （是否双端数据）\n",
    "* -fl 249 -rl 237 （前后测序长度）\n",
    "* -r /home/yxtan/SILVA_132_SSURef_Nr99/SILVA_132_SSURef_Nr99_tax_silva_B337af_B787cr.qza （train后的参考数据库） \n",
    "* -md /home/yxtan/test2/metadata_categorical.txt （样品分组注释文件）【该文件的第一列和sample_table的第一列一致并且没有内部重复的就可以了，不需要有明确含义。】\n",
    "* -n 20 （并行任务数量）\n",
    "\n",
    "还有其他一些辅助可选参数，具体情况具体设置   \n",
    "注意：因为QIIME2涉及比较大的临时空间，所以要把“export TMPDIR=~/tmp”这一句加到/.bashrc里面，而且要mkdir ~/tmp 以保证这个文件夹的存在，否则在运行过程中可能会报错。\n"
   ]
  },
  {
   "cell_type": "code",
   "execution_count": 4,
   "metadata": {},
   "outputs": [
    {
     "name": "stdout",
     "output_type": "stream",
     "text": [
      "usage: QIIME2_workflow.py [-h] -i RD [-n NODE] -r RF [-sp SP] -fl FL -rl RL\n",
      "                          -md MD [-fr FR] [-ad AD] [-id ID] [-fp FP] [-rp RP]\n",
      "                          [-a A] [-tl TL] [-tr1 TR1] [-tr2 TR2] [-e PAIR]\n",
      "                          [-mo MINO]\n",
      "\n",
      "optional arguments:\n",
      "  -h, --help            show this help message and exit\n",
      "  -i RD, --input RD     the tabular-table contains paths of the raw data\n",
      "  -n NODE, --node NODE  the number of nodes to request\n",
      "  -r RF, --ref RF       paht of the reference based classification model file\n",
      "  -sp SP, --spath SP    path of the custom scripts\n",
      "  -fl FL, --forwardlen FL\n",
      "                        the length of forward primer\n",
      "  -rl RL, --reverselen RL\n",
      "                        the length of reverse primer\n",
      "  -md MD, --metadata MD\n",
      "                        the path of the metadata file, it must contain only\n",
      "                        the categorical columns, or the plotting part of the\n",
      "                        workflow will give alarm\n",
      "  -fr FR, --freq FR     the frequence used to do rare ASV filter, default is\n",
      "                        using auto-dection of 0.001 from mean frequency\n",
      "  -ad AD, --deptha AD   the depth used for rarefaction, generally should used\n",
      "                        the maximum depth from the summary plot, which by\n",
      "                        default will be auto detected. User can manually input\n",
      "                        the desired number bigger than 0.\n",
      "  -id ID, --depthi ID   the depth used for PCoA, generally should used the\n",
      "                        minimum depth from the summary plot, which by default\n",
      "                        will be auto detected. User can manually input the\n",
      "                        desired number bigger than 0.However, samples with\n",
      "                        depth below this cut-off will be excluded\n",
      "  -fp FP, --primerf FP  the seq of forward primer\n",
      "  -rp RP, --primerr RP  the seq of reverse primer\n",
      "  -a A, --aligner A     the user can choose what aligners to use, default is\n",
      "                        using both deblur and dada2. Otherwise,you can type in\n",
      "                        only 'deblur' or 'dada2' as option. Other typeins will\n",
      "                        all be consider both\n",
      "  -tl TL, --trimelen TL\n",
      "                        the user defined trim length for deblur, which must be\n",
      "                        bigger than the auto detection. The default is using\n",
      "                        auto-detect 2 percent length after quality filtering.\n",
      "  -tr1 TR1, --truncR1 TR1\n",
      "                        the length to be trunc in dada2 after cutadapt on the\n",
      "                        1st end, only use it when you want to trim the low\n",
      "                        quality reads at the 3 end. The default is doing no\n",
      "                        trimming. Or you can use an extreme large number to\n",
      "                        activate using the full length and filter the short\n",
      "                        reads.\n",
      "  -tr2 TR2, --truncR2 TR2\n",
      "                        the length to be trunc in dada2 after cutadapt on the\n",
      "                        2nd end, only use it when you want to trim the low\n",
      "                        quality reads at the 3 end. The default is doing no\n",
      "                        trimming. Or you can use an extreme large number to\n",
      "                        activate using the full length and filter the short\n",
      "                        reads.\n",
      "  -e PAIR, --pair PAIR  Is it pair-end seq data? Default is 'True'; Any other\n",
      "                        strings will be considered False\n",
      "  -mo MINO, --minOL MINO\n",
      "                        The min overlap allowed for dada2, default is 12\n"
     ]
    }
   ],
   "source": [
    "python /home/yxtan/qiime2_custom_scripts/QIIME2_workflow.py -h"
   ]
  },
  {
   "cell_type": "markdown",
   "metadata": {},
   "source": [
    "### 输出"
   ]
  },
  {
   "cell_type": "markdown",
   "metadata": {},
   "source": [
    "都在dada2_output或者deblur_output里的output_exported里   \n",
    "* feature-table_w_tax.txt（包含了表达信息以及taxonomy的信息【第一列是otuID、最后一列是用“;”串起来的taxonomy名字，中间是表达量】）\n",
    "* rooted_tree里的tree.nwk，包含了进化树信息\n"
   ]
  },
  {
   "cell_type": "markdown",
   "metadata": {},
   "source": [
    "通用输入：\n",
    "feature-table：第一列是数字ID、最后一列是注释信息，中间是表达量，且第一行是无#号的表头。\n",
    "metatable_R：以输入16S的格式为基础，把第一行表头的#号以及第二行注释删掉。(控制下游分析内容的主要开关）\n",
    "sample_name_anno: 第一列为和metatable_R的第一列匹配的样品ID，第二列为feature-table里面的样品名（通过这个方式，可以更简单地重新定义我们想要地画图里面的样品命名方式。）\n",
    "和树结构有关的分析：(un)weighted PCOA\n",
    "tree.nwk，包含了进化树信息，目前只有16S的结果有提供\n",
    "\n"
   ]
  },
  {
   "cell_type": "markdown",
   "metadata": {},
   "source": [
    "### 实例："
   ]
  },
  {
   "cell_type": "code",
   "execution_count": 4,
   "metadata": {},
   "outputs": [
    {
     "name": "stdout",
     "output_type": "stream",
     "text": [
      "(qiime2-2020.2) "
     ]
    },
    {
     "ename": "",
     "evalue": "1",
     "output_type": "error",
     "traceback": []
    }
   ],
   "source": [
    "cd /home/junyuchen/Lab/Amplicon-SOP/Demo #切换工作路径"
   ]
  },
  {
   "cell_type": "code",
   "execution_count": 1,
   "metadata": {},
   "outputs": [
    {
     "name": "stdout",
     "output_type": "stream",
     "text": [
      "\u001b[33mQIIME is caching your current deployment for improved performance. This may take a few moments and should only happen once per deployment.\u001b[0m\n",
      "(qiime2-2020.2) "
     ]
    },
    {
     "ename": "",
     "evalue": "1",
     "output_type": "error",
     "traceback": []
    }
   ],
   "source": [
    "conda activate /home/LDlab/BioSoft/anaconda3/envs/qiime2-2020.2"
   ]
  },
  {
   "cell_type": "code",
   "execution_count": 5,
   "metadata": {},
   "outputs": [
    {
     "name": "stdout",
     "output_type": "stream",
     "text": [
      "Usage example with minimum parameters:   -i abs_path_raw_fq_folder\n",
      "/home/junyuchen/Lab/Amplicon-SOP/mimb_16S/sequence_data/import_to_qiime\n",
      "R1\n",
      "R2\n",
      "_\n",
      "sample_table.txt\n",
      "(qiime2-2020.2) "
     ]
    },
    {
     "ename": "",
     "evalue": "1",
     "output_type": "error",
     "traceback": []
    }
   ],
   "source": [
    "python /home/junyuchen/Lab/Amplicon-SOP/Scripts/fq_sample_table_generate.py -i /home/junyuchen/Lab/Amplicon-SOP/mimb_16S/sequence_data/import_to_qiime"
   ]
  },
  {
   "cell_type": "code",
   "execution_count": 7,
   "metadata": {
    "collapsed": true,
    "jupyter": {
     "outputs_hidden": true
    }
   },
   "outputs": [
    {
     "name": "stdout",
     "output_type": "stream",
     "text": [
      "#SampleID\tforward-absolute-filepath\treverse-absolute-filepath\n",
      "SRR3202940\t/home/junyuchen/Lab/Amplicon-SOP/mimb_16S/sequence_data/import_to_qiime/SRR3202940_S0_L001_R1_001.fastq.gz\t/home/junyuchen/Lab/Amplicon-SOP/mimb_16S/sequence_data/import_to_qiime/SRR3202940_S0_L001_R2_001.fastq.gz\n",
      "SRR3202956\t/home/junyuchen/Lab/Amplicon-SOP/mimb_16S/sequence_data/import_to_qiime/SRR3202956_S0_L001_R1_001.fastq.gz\t/home/junyuchen/Lab/Amplicon-SOP/mimb_16S/sequence_data/import_to_qiime/SRR3202956_S0_L001_R2_001.fastq.gz\n",
      "SRR3202920\t/home/junyuchen/Lab/Amplicon-SOP/mimb_16S/sequence_data/import_to_qiime/SRR3202920_S0_L001_R1_001.fastq.gz\t/home/junyuchen/Lab/Amplicon-SOP/mimb_16S/sequence_data/import_to_qiime/SRR3202920_S0_L001_R2_001.fastq.gz\n",
      "SRR3203009\t/home/junyuchen/Lab/Amplicon-SOP/mimb_16S/sequence_data/import_to_qiime/SRR3203009_S0_L001_R1_001.fastq.gz\t/home/junyuchen/Lab/Amplicon-SOP/mimb_16S/sequence_data/import_to_qiime/SRR3203009_S0_L001_R2_001.fastq.gz\n",
      "SRR3202983\t/home/junyuchen/Lab/Amplicon-SOP/mimb_16S/sequence_data/import_to_qiime/SRR3202983_S0_L001_R1_001.fastq.gz\t/home/junyuchen/Lab/Amplicon-SOP/mimb_16S/sequence_data/import_to_qiime/SRR3202983_S0_L001_R2_001.fastq.gz\n",
      "SRR3202921\t/home/junyuchen/Lab/Amplicon-SOP/mimb_16S/sequence_data/import_to_qiime/SRR3202921_S0_L001_R1_001.fastq.gz\t/home/junyuchen/Lab/Amplicon-SOP/mimb_16S/sequence_data/import_to_qiime/SRR3202921_S0_L001_R2_001.fastq.gz\n",
      "SRR3203018\t/home/junyuchen/Lab/Amplicon-SOP/mimb_16S/sequence_data/import_to_qiime/SRR3203018_S0_L001_R1_001.fastq.gz\t/home/junyuchen/Lab/Amplicon-SOP/mimb_16S/sequence_data/import_to_qiime/SRR3203018_S0_L001_R2_001.fastq.gz\n",
      "SRR3202977\t/home/junyuchen/Lab/Amplicon-SOP/mimb_16S/sequence_data/import_to_qiime/SRR3202977_S0_L001_R1_001.fastq.gz\t/home/junyuchen/Lab/Amplicon-SOP/mimb_16S/sequence_data/import_to_qiime/SRR3202977_S0_L001_R2_001.fastq.gz\n",
      "SRR3202930\t/home/junyuchen/Lab/Amplicon-SOP/mimb_16S/sequence_data/import_to_qiime/SRR3202930_S0_L001_R1_001.fastq.gz\t/home/junyuchen/Lab/Amplicon-SOP/mimb_16S/sequence_data/import_to_qiime/SRR3202930_S0_L001_R2_001.fastq.gz\n",
      "(qiime2-2020.2) "
     ]
    },
    {
     "ename": "",
     "evalue": "1",
     "output_type": "error",
     "traceback": []
    }
   ],
   "source": [
    "head /home/junyuchen/Lab/Amplicon-SOP/Demo/sample_table.txt"
   ]
  },
  {
   "cell_type": "code",
   "execution_count": null,
   "metadata": {},
   "outputs": [],
   "source": [
    "/home/LDlab/DataBases/QIIME2/silva-132-99-515-806-nb-classifier.qza"
   ]
  },
  {
   "cell_type": "code",
   "execution_count": null,
   "metadata": {},
   "outputs": [],
   "source": [
    "/home/junyuchen/Lab/Amplicon-SOP/Demo/metadata.txt"
   ]
  },
  {
   "cell_type": "code",
   "execution_count": 8,
   "metadata": {},
   "outputs": [
    {
     "name": "stdout",
     "output_type": "stream",
     "text": [
      "/home/junyuchen/Lab/Amplicon-SOP/Demo\n",
      "(qiime2-2020.2) "
     ]
    },
    {
     "ename": "",
     "evalue": "1",
     "output_type": "error",
     "traceback": []
    }
   ],
   "source": [
    "pwd"
   ]
  },
  {
   "cell_type": "code",
   "execution_count": null,
   "metadata": {},
   "outputs": [
    {
     "name": "stdout",
     "output_type": "stream",
     "text": [
      "Usage example with minimum parameters: python /home/yxtan/qiime2_custom_scripts/QIIME2_workflow.py -i sample_table.txt  -fl 249 -rl 237 -r /home/yxtan/SILVA_132_SSURef_Nr99/SILVA_132_SSURef_Nr99_tax_silva_B337af_B787cr.qza -md /home/yxtan/test2/metadata_categorical.txt\n",
      "mkdir: cannot create directory ‘reads_qza’: File exists\n",
      "\u001b[32mImported /home/junyuchen/Lab/Amplicon-SOP/Demo/sample_table.txt as PairedEndFastqManifestPhred33V2 to reads_qza/reads_trimmed.qza\u001b[0m\n",
      "No trimming for dada2.\n",
      "No trimming for dada2.\n",
      "\u001b[32mSaved SampleData[JoinedSequencesWithQuality] to: reads_qza/reads_trimmed_joined.qza\u001b[0m\n",
      "\u001b[32mSaved SampleData[JoinedSequencesWithQuality] to: reads_qza/reads_trimmed_joined_filt.qza\u001b[0m\n",
      "\u001b[32mSaved QualityFilterStats to: reads_qza/filt_stats.qza\u001b[0m\n",
      "\u001b[32mExported reads_qza/reads_trimmed.qza as SingleLanePerSamplePairedEndFastqDirFmt to directory /tmp/tmp2j_d4psj\u001b[0m\n",
      "\u001b[32mExported reads_qza/reads_trimmed_joined.qza as SingleLanePerSampleSingleEndFastqDirFmt to directory /tmp/tmpvsjhnilj\u001b[0m\n",
      "\u001b[32mExported reads_qza/reads_trimmed_joined_filt.qza as SingleLanePerSampleSingleEndFastqDirFmt to directory /tmp/tmpa1qmzcme\u001b[0m\n",
      "\u001b[32mSaved Visualization to: reads_trimmed_joined_filt_summary.qzv\u001b[0m\n",
      "\u001b[32mExported reads_trimmed_joined_filt_summary.qzv as Visualization to directory demux_sum/\u001b[0m\n",
      "trim_length is 251, automatic detected\n",
      "Usage: \u001b[34mqiime deblur denoise-16S\u001b[0m [OPTIONS]\n",
      "\n",
      "  Perform sequence quality control for Illumina data using the Deblur\n",
      "  workflow with a 16S reference as a positive filter. Only forward reads are\n",
      "  supported at this time. The specific reference used is the 88% OTUs from\n",
      "  Greengenes 13_8. This mode of operation should only be used when data were\n",
      "  generated from a 16S amplicon protocol on an Illumina platform. The\n",
      "  reference is only used to assess whether each sequence is likely to be 16S\n",
      "  by a local alignment using SortMeRNA with a permissive e-value; the\n",
      "  reference is not used to characterize the sequences.\n",
      "\n",
      "\u001b[1mInputs\u001b[0m:\n",
      "  \u001b[34m\u001b[4m--i-demultiplexed-seqs\u001b[0m ARTIFACT \u001b[32mSampleData[SequencesWithQuality |\u001b[0m\n",
      "    \u001b[32mPairedEndSequencesWithQuality | JoinedSequencesWithQuality]\u001b[0m\n",
      "                         The demultiplexed sequences to be denoised.\n",
      "                                                                    \u001b[35m[required]\u001b[0m\n",
      "\u001b[1mParameters\u001b[0m:\n",
      "  \u001b[34m\u001b[4m--p-trim-length\u001b[0m INTEGER\n",
      "                         Sequence trim length, specify -1 to disable\n",
      "                         trimming.                                  \u001b[35m[required]\u001b[0m\n",
      "  \u001b[34m--p-left-trim-len\u001b[0m INTEGER\n",
      "    \u001b[32mRange(0, None)\u001b[0m       Sequence trimming from the 5' end. A value of 0 will\n",
      "                         disable this trim.                       \u001b[35m[default: 0]\u001b[0m\n",
      "  \u001b[34m--p-sample-stats\u001b[0m / \u001b[34m--p-no-sample-stats\u001b[0m\n",
      "                         If true, gather stats per sample.    \u001b[35m[default: False]\u001b[0m\n",
      "  \u001b[34m--p-mean-error\u001b[0m NUMBER  The mean per nucleotide error, used for original\n",
      "                         sequence estimate.                   \u001b[35m[default: 0.005]\u001b[0m\n",
      "  \u001b[34m--p-indel-prob\u001b[0m NUMBER  Insertion/deletion (indel) probability (same for N\n",
      "                         indels).                              \u001b[35m[default: 0.01]\u001b[0m\n",
      "  \u001b[34m--p-indel-max\u001b[0m INTEGER  Maximum number of insertion/deletions.   \u001b[35m[default: 3]\u001b[0m\n",
      "  \u001b[34m--p-min-reads\u001b[0m INTEGER  Retain only features appearing at least \u001b[4mmin-reads\u001b[0m\n",
      "                         times across all samples in the resulting feature\n",
      "                         table.                                  \u001b[35m[default: 10]\u001b[0m\n",
      "  \u001b[34m--p-min-size\u001b[0m INTEGER   In each sample, discard all features with an\n",
      "                         abundance less than \u001b[4mmin-size\u001b[0m.            \u001b[35m[default: 2]\u001b[0m\n",
      "  \u001b[34m--p-jobs-to-start\u001b[0m INTEGER\n",
      "                         Number of jobs to start (if to run in parallel).\n",
      "                                                                  \u001b[35m[default: 1]\u001b[0m\n",
      "  \u001b[34m--p-hashed-feature-ids\u001b[0m / \u001b[34m--p-no-hashed-feature-ids\u001b[0m\n",
      "                         If true, hash the feature IDs.        \u001b[35m[default: True]\u001b[0m\n",
      "\u001b[1mOutputs\u001b[0m:\n",
      "  \u001b[34m\u001b[4m--o-table\u001b[0m ARTIFACT \u001b[32mFeatureTable[Frequency]\u001b[0m\n",
      "                         The resulting denoised feature table.      \u001b[35m[required]\u001b[0m\n",
      "  \u001b[34m\u001b[4m--o-representative-sequences\u001b[0m ARTIFACT \u001b[32mFeatureData[Sequence]\u001b[0m\n",
      "                         The resulting feature sequences.           \u001b[35m[required]\u001b[0m\n",
      "  \u001b[34m\u001b[4m--o-stats\u001b[0m ARTIFACT     Per-sample stats if requested.\n",
      "    \u001b[32mDeblurStats\u001b[0m                                                     \u001b[35m[required]\u001b[0m\n",
      "\u001b[1mMiscellaneous\u001b[0m:\n",
      "  \u001b[34m--output-dir\u001b[0m PATH      Output unspecified results to a directory\n",
      "  \u001b[34m--verbose\u001b[0m / \u001b[34m--quiet\u001b[0m    Display verbose output to stdout and/or stderr\n",
      "                         during execution of this action. Or silence output if\n",
      "                         execution is successful (silence is golden).\n",
      "  \u001b[34m--citations\u001b[0m            Show citations and exit.\n",
      "  \u001b[34m--help\u001b[0m                 Show this message and exit.\n",
      "\n",
      "\u001b[33m                  There were some problems with the command:                  \u001b[0m\n",
      "\u001b[31m\u001b[1m (1/4) Invalid value for \"--output-dir\": 'deblur_output' already exists, will\n",
      "  not overwrite.\u001b[0m\n",
      "\u001b[31m\u001b[1m (2/4) Missing option \"--o-table\".  (\"--output-dir\" may also be used)\u001b[0m\n",
      "\u001b[31m\u001b[1m (3/4) Missing option \"--o-representative-sequences\".  (\"--output-dir\" may\n",
      "  also be used)\u001b[0m\n",
      "\u001b[31m\u001b[1m (4/4) Missing option \"--o-stats\".  (\"--output-dir\" may also be used)\u001b[0m\n",
      "min-overlap is 12\n",
      "Usage: \u001b[34mqiime dada2 denoise-paired\u001b[0m [OPTIONS]\n",
      "\n",
      "  This method denoises paired-end sequences, dereplicates them, and filters\n",
      "  chimeras.\n",
      "\n",
      "\u001b[1mInputs\u001b[0m:\n",
      "  \u001b[34m\u001b[4m--i-demultiplexed-seqs\u001b[0m ARTIFACT \u001b[32mSampleData[PairedEndSequencesWithQuality]\u001b[0m\n",
      "                         The paired-end demultiplexed sequences to be\n",
      "                         denoised.                                  \u001b[35m[required]\u001b[0m\n",
      "\u001b[1mParameters\u001b[0m:\n",
      "  \u001b[34m\u001b[4m--p-trunc-len-f\u001b[0m INTEGER\n",
      "                         Position at which forward read sequences should be\n",
      "                         truncated due to decrease in quality. This truncates\n",
      "                         the 3' end of the of the input sequences, which will\n",
      "                         be the bases that were sequenced in the last cycles.\n",
      "                         Reads that are shorter than this value will be\n",
      "                         discarded. After this parameter is applied there must\n",
      "                         still be at least a 12 nucleotide overlap between the\n",
      "                         forward and reverse reads. If 0 is provided, no\n",
      "                         truncation or length filtering will be performed\n",
      "                                                                    \u001b[35m[required]\u001b[0m\n",
      "  \u001b[34m\u001b[4m--p-trunc-len-r\u001b[0m INTEGER\n",
      "                         Position at which reverse read sequences should be\n",
      "                         truncated due to decrease in quality. This truncates\n",
      "                         the 3' end of the of the input sequences, which will\n",
      "                         be the bases that were sequenced in the last cycles.\n",
      "                         Reads that are shorter than this value will be\n",
      "                         discarded. After this parameter is applied there must\n",
      "                         still be at least a 12 nucleotide overlap between the\n",
      "                         forward and reverse reads. If 0 is provided, no\n",
      "                         truncation or length filtering will be performed\n",
      "                                                                    \u001b[35m[required]\u001b[0m\n",
      "  \u001b[34m--p-trim-left-f\u001b[0m INTEGER\n",
      "                         Position at which forward read sequences should be\n",
      "                         trimmed due to low quality. This trims the 5' end of\n",
      "                         the input sequences, which will be the bases that\n",
      "                         were sequenced in the first cycles.      \u001b[35m[default: 0]\u001b[0m\n",
      "  \u001b[34m--p-trim-left-r\u001b[0m INTEGER\n",
      "                         Position at which reverse read sequences should be\n",
      "                         trimmed due to low quality. This trims the 5' end of\n",
      "                         the input sequences, which will be the bases that\n",
      "                         were sequenced in the first cycles.      \u001b[35m[default: 0]\u001b[0m\n",
      "  \u001b[34m--p-max-ee-f\u001b[0m NUMBER    Forward reads with number of expected errors higher\n",
      "                         than this value will be discarded.     \u001b[35m[default: 2.0]\u001b[0m\n",
      "  \u001b[34m--p-max-ee-r\u001b[0m NUMBER    Reverse reads with number of expected errors higher\n",
      "                         than this value will be discarded.     \u001b[35m[default: 2.0]\u001b[0m\n",
      "  \u001b[34m--p-trunc-q\u001b[0m INTEGER    Reads are truncated at the first instance of a\n",
      "                         quality score less than or equal to this value. If\n",
      "                         the resulting read is then shorter than `\u001b[4mtrunc-len-f\u001b[0m`\n",
      "                         or `\u001b[4mtrunc-len-r\u001b[0m` (depending on the direction of the\n",
      "                         read) it is discarded.                   \u001b[35m[default: 2]\u001b[0m\n",
      "  \u001b[34m--p-chimera-method\u001b[0m TEXT \u001b[32mChoices('pooled', 'none', 'consensus')\u001b[0m\n",
      "                         The method used to remove chimeras. \"none\": No\n",
      "                         chimera removal is performed. \"pooled\": All reads are\n",
      "                         pooled prior to chimera detection. \"consensus\":\n",
      "                         Chimeras are detected in samples individually, and\n",
      "                         sequences found chimeric in a sufficient fraction of\n",
      "                         samples are removed.           \u001b[35m[default: 'consensus']\u001b[0m\n",
      "  \u001b[34m--p-min-fold-parent-over-abundance\u001b[0m NUMBER\n",
      "                         The minimum abundance of potential parents of a\n",
      "                         sequence being tested as chimeric, expressed as a\n",
      "                         fold-change versus the abundance of the sequence\n",
      "                         being tested. Values should be greater than or equal\n",
      "                         to 1 (i.e. parents should be more abundant than the\n",
      "                         sequence being tested). This parameter has no effect\n",
      "                         if \u001b[4mchimera-method\u001b[0m is \"none\".           \u001b[35m[default: 1.0]\u001b[0m\n",
      "  \u001b[34m--p-n-threads\u001b[0m INTEGER  The number of threads to use for multithreaded\n",
      "                         processing. If 0 is provided, all available cores\n",
      "                         will be used.                            \u001b[35m[default: 1]\u001b[0m\n",
      "  \u001b[34m--p-n-reads-learn\u001b[0m INTEGER\n",
      "                         The number of reads to use when training the error\n",
      "                         model. Smaller numbers will result in a shorter run\n",
      "                         time but a less reliable error model.\n",
      "                                                            \u001b[35m[default: 1000000]\u001b[0m\n",
      "  \u001b[34m--p-hashed-feature-ids\u001b[0m / \u001b[34m--p-no-hashed-feature-ids\u001b[0m\n",
      "                         If true, the feature ids in the resulting table will\n",
      "                         be presented as hashes of the sequences defining each\n",
      "                         feature. The hash will always be the same for the\n",
      "                         same sequence so this allows feature tables to be\n",
      "                         merged across runs of this method. You should only\n",
      "                         merge tables if the exact same parameters are used\n",
      "                         for each run.                         \u001b[35m[default: True]\u001b[0m\n",
      "\u001b[1mOutputs\u001b[0m:\n",
      "  \u001b[34m\u001b[4m--o-table\u001b[0m ARTIFACT \u001b[32mFeatureTable[Frequency]\u001b[0m\n",
      "                         The resulting feature table.               \u001b[35m[required]\u001b[0m\n",
      "  \u001b[34m\u001b[4m--o-representative-sequences\u001b[0m ARTIFACT \u001b[32mFeatureData[Sequence]\u001b[0m\n",
      "                         The resulting feature sequences. Each feature in the\n",
      "                         feature table will be represented by exactly one\n",
      "                         sequence, and these sequences will be the joined\n",
      "                         paired-end sequences.                      \u001b[35m[required]\u001b[0m\n",
      "  \u001b[34m\u001b[4m--o-denoising-stats\u001b[0m ARTIFACT \u001b[32mSampleData[DADA2Stats]\u001b[0m\n",
      "                                                                    \u001b[35m[required]\u001b[0m\n",
      "\u001b[1mMiscellaneous\u001b[0m:\n",
      "  \u001b[34m--output-dir\u001b[0m PATH      Output unspecified results to a directory\n",
      "  \u001b[34m--verbose\u001b[0m / \u001b[34m--quiet\u001b[0m    Display verbose output to stdout and/or stderr\n",
      "                         during execution of this action. Or silence output if\n",
      "                         execution is successful (silence is golden).\n",
      "  \u001b[34m--citations\u001b[0m            Show citations and exit.\n",
      "  \u001b[34m--help\u001b[0m                 Show this message and exit.\n",
      "\n",
      "\u001b[33m                  There were some problems with the command:                  \u001b[0m\n",
      "\u001b[31m\u001b[1m (1/2?) no such option: --p-max-ee  (Possible options: --p-max-ee-f, --p-max-\n",
      "  ee-r)\u001b[0m\n",
      "\u001b[31m\u001b[1m (2/2?) no such option: --p-min-overlap\u001b[0m\n",
      "Usage: \u001b[34mqiime tools export\u001b[0m [OPTIONS]\n",
      "\n",
      "  Exporting extracts (and optionally transforms) data stored inside an\n",
      "  Artifact or Visualization. Note that Visualizations cannot be transformed\n",
      "  with --output-format\n",
      "\n",
      "\u001b[1mOptions\u001b[0m:\n",
      "  \u001b[34m\u001b[4m--input-path\u001b[0m ARTIFACT/VISUALIZATION\n",
      "                        Path to file that should be exported        \u001b[35m[required]\u001b[0m\n",
      "  \u001b[34m\u001b[4m--output-path\u001b[0m PATH    Path to file or directory where data should be\n",
      "                        exported to                                 \u001b[35m[required]\u001b[0m\n",
      "  \u001b[34m--output-format\u001b[0m TEXT  Format which the data should be exported as. This\n",
      "                        option cannot be used with Visualizations\n",
      "  \u001b[34m--help\u001b[0m                Show this message and exit.\n",
      "\n",
      "\u001b[33m                    There was a problem with the command:                     \u001b[0m\n",
      "\u001b[31m\u001b[1m (1/1) Invalid value for \"--input-path\": File\n",
      "  \"dada2_output/denoising_stats.qza\" does not exist.\u001b[0m\n",
      "\u001b[32mSaved Visualization to: deblur_output/table_summary.qzv\u001b[0m\n",
      "\u001b[32mExported deblur_output/table_summary.qzv as Visualization to directory deblur_output/table_sum/\u001b[0m\n",
      "\u001b[32mSaved FeatureTable[RelativeFrequency] to: deblur_output/table_relative.qza\u001b[0m\n",
      "\u001b[32mSaved Visualization to: deblur_output/table_filt_summary.qzv\u001b[0m\n",
      "\u001b[32mExported deblur_output/table_filt_summary.qzv as Visualization to directory deblur_output/table_filt_sum/\u001b[0m\n",
      "Usage: \u001b[34mqiime feature-table summarize\u001b[0m [OPTIONS]\n",
      "\n",
      "  Generate visual and tabular summaries of a feature table.\n",
      "\n",
      "\u001b[1mInputs\u001b[0m:\n",
      "  \u001b[34m\u001b[4m--i-table\u001b[0m ARTIFACT \u001b[32mFeatureTable[Frequency | RelativeFrequency |\u001b[0m\n",
      "    \u001b[32mPresenceAbsence]\u001b[0m   The feature table to be summarized.          \u001b[35m[required]\u001b[0m\n",
      "\u001b[1mParameters\u001b[0m:\n",
      "  \u001b[34m--m-sample-metadata-file\u001b[0m METADATA...\n",
      "    (multiple          The sample metadata.\n",
      "     arguments will    \n",
      "     be merged)                                                     \u001b[35m[optional]\u001b[0m\n",
      "\u001b[1mOutputs\u001b[0m:\n",
      "  \u001b[34m\u001b[4m--o-visualization\u001b[0m VISUALIZATION\n",
      "                                                                    \u001b[35m[required]\u001b[0m\n",
      "\u001b[1mMiscellaneous\u001b[0m:\n",
      "  \u001b[34m--output-dir\u001b[0m PATH    Output unspecified results to a directory\n",
      "  \u001b[34m--verbose\u001b[0m / \u001b[34m--quiet\u001b[0m  Display verbose output to stdout and/or stderr during\n",
      "                       execution of this action. Or silence output if\n",
      "                       execution is successful (silence is golden).\n",
      "  \u001b[34m--citations\u001b[0m          Show citations and exit.\n",
      "  \u001b[34m--help\u001b[0m               Show this message and exit.\n",
      "\n",
      "\u001b[33m                  There were some problems with the command:                  \u001b[0m\n",
      "\u001b[31m\u001b[1m (1/2) Invalid value for \"--i-table\": 'dada2_output/table.qza' is not a valid\n",
      "  filepath\u001b[0m\n",
      "\u001b[31m\u001b[1m (2/2) Invalid value for \"--o-visualization\": Directory 'dada2_output' does\n",
      "  not exist, cannot save 'table_summary.qzv' into it.\u001b[0m\n",
      "Usage: \u001b[34mqiime tools export\u001b[0m [OPTIONS]\n",
      "\n",
      "  Exporting extracts (and optionally transforms) data stored inside an\n",
      "  Artifact or Visualization. Note that Visualizations cannot be transformed\n",
      "  with --output-format\n",
      "\n",
      "\u001b[1mOptions\u001b[0m:\n",
      "  \u001b[34m\u001b[4m--input-path\u001b[0m ARTIFACT/VISUALIZATION\n",
      "                        Path to file that should be exported        \u001b[35m[required]\u001b[0m\n",
      "  \u001b[34m\u001b[4m--output-path\u001b[0m PATH    Path to file or directory where data should be\n",
      "                        exported to                                 \u001b[35m[required]\u001b[0m\n",
      "  \u001b[34m--output-format\u001b[0m TEXT  Format which the data should be exported as. This\n",
      "                        option cannot be used with Visualizations\n",
      "  \u001b[34m--help\u001b[0m                Show this message and exit.\n",
      "\n",
      "\u001b[33m                    There was a problem with the command:                     \u001b[0m\n",
      "\u001b[31m\u001b[1m (1/1) Invalid value for \"--input-path\": File \"dada2_output/table_summary.qzv\"\n",
      "  does not exist.\u001b[0m\n",
      "Usage: \u001b[34mqiime feature-table relative-frequency\u001b[0m [OPTIONS]\n",
      "\n",
      "  Convert frequencies to relative frequencies by dividing each frequency in\n",
      "  a sample by the sum of frequencies in that sample.\n",
      "\n",
      "\u001b[1mInputs\u001b[0m:\n",
      "  \u001b[34m\u001b[4m--i-table\u001b[0m ARTIFACT \u001b[32mFeatureTable[Frequency]\u001b[0m\n",
      "                       The feature table to be converted into relative\n",
      "                       frequencies.                                 \u001b[35m[required]\u001b[0m\n",
      "\u001b[1mOutputs\u001b[0m:\n",
      "  \u001b[34m\u001b[4m--o-relative-frequency-table\u001b[0m ARTIFACT \u001b[32mFeatureTable[RelativeFrequency]\u001b[0m\n",
      "                       The resulting relative frequency feature table.\n",
      "                                                                    \u001b[35m[required]\u001b[0m\n",
      "\u001b[1mMiscellaneous\u001b[0m:\n",
      "  \u001b[34m--output-dir\u001b[0m PATH    Output unspecified results to a directory\n",
      "  \u001b[34m--verbose\u001b[0m / \u001b[34m--quiet\u001b[0m  Display verbose output to stdout and/or stderr during\n",
      "                       execution of this action. Or silence output if\n",
      "                       execution is successful (silence is golden).\n",
      "  \u001b[34m--citations\u001b[0m          Show citations and exit.\n",
      "  \u001b[34m--help\u001b[0m               Show this message and exit.\n",
      "\n",
      "\u001b[33m                  There were some problems with the command:                  \u001b[0m\n",
      "\u001b[31m\u001b[1m (1/2) Invalid value for \"--i-table\": 'dada2_output/table.qza' is not a valid\n",
      "  filepath\u001b[0m\n",
      "\u001b[31m\u001b[1m (2/2) Invalid value for \"--o-relative-frequency-table\": Directory\n",
      "  'dada2_output' does not exist, cannot save 'table_relative.qza' into it.\u001b[0m\n",
      "cp: cannot stat 'dada2_output/table.qza': No such file or directory\n",
      "cp: cannot stat 'dada2_output/representative_sequences.qza': No such file or directory\n",
      "Usage: \u001b[34mqiime feature-table summarize\u001b[0m [OPTIONS]\n",
      "\n",
      "  Generate visual and tabular summaries of a feature table.\n",
      "\n",
      "\u001b[1mInputs\u001b[0m:\n",
      "  \u001b[34m\u001b[4m--i-table\u001b[0m ARTIFACT \u001b[32mFeatureTable[Frequency | RelativeFrequency |\u001b[0m\n",
      "    \u001b[32mPresenceAbsence]\u001b[0m   The feature table to be summarized.          \u001b[35m[required]\u001b[0m\n",
      "\u001b[1mParameters\u001b[0m:\n",
      "  \u001b[34m--m-sample-metadata-file\u001b[0m METADATA...\n",
      "    (multiple          The sample metadata.\n",
      "     arguments will    \n",
      "     be merged)                                                     \u001b[35m[optional]\u001b[0m\n",
      "\u001b[1mOutputs\u001b[0m:\n",
      "  \u001b[34m\u001b[4m--o-visualization\u001b[0m VISUALIZATION\n",
      "                                                                    \u001b[35m[required]\u001b[0m\n",
      "\u001b[1mMiscellaneous\u001b[0m:\n",
      "  \u001b[34m--output-dir\u001b[0m PATH    Output unspecified results to a directory\n",
      "  \u001b[34m--verbose\u001b[0m / \u001b[34m--quiet\u001b[0m  Display verbose output to stdout and/or stderr during\n",
      "                       execution of this action. Or silence output if\n",
      "                       execution is successful (silence is golden).\n",
      "  \u001b[34m--citations\u001b[0m          Show citations and exit.\n",
      "  \u001b[34m--help\u001b[0m               Show this message and exit.\n",
      "\n",
      "\u001b[33m                  There were some problems with the command:                  \u001b[0m\n",
      "\u001b[31m\u001b[1m (1/2) Invalid value for \"--i-table\": 'dada2_output/table_filt.qza' is not a\n",
      "  valid filepath\u001b[0m\n",
      "\u001b[31m\u001b[1m (2/2) Invalid value for \"--o-visualization\": Directory 'dada2_output' does\n",
      "  not exist, cannot save 'table_filt_summary.qzv' into it.\u001b[0m\n",
      "Usage: \u001b[34mqiime tools export\u001b[0m [OPTIONS]\n",
      "\n",
      "  Exporting extracts (and optionally transforms) data stored inside an\n",
      "  Artifact or Visualization. Note that Visualizations cannot be transformed\n",
      "  with --output-format\n",
      "\n",
      "\u001b[1mOptions\u001b[0m:\n",
      "  \u001b[34m\u001b[4m--input-path\u001b[0m ARTIFACT/VISUALIZATION\n",
      "                        Path to file that should be exported        \u001b[35m[required]\u001b[0m\n",
      "  \u001b[34m\u001b[4m--output-path\u001b[0m PATH    Path to file or directory where data should be\n",
      "                        exported to                                 \u001b[35m[required]\u001b[0m\n",
      "  \u001b[34m--output-format\u001b[0m TEXT  Format which the data should be exported as. This\n",
      "                        option cannot be used with Visualizations\n",
      "  \u001b[34m--help\u001b[0m                Show this message and exit.\n",
      "\n",
      "\u001b[33m                    There was a problem with the command:                     \u001b[0m\n",
      "\u001b[31m\u001b[1m (1/1) Invalid value for \"--input-path\": File\n",
      "  \"dada2_output/table_filt_summary.qzv\" does not exist.\u001b[0m\n",
      "mkdir: cannot create directory ‘deblur_output/tree_out’: File exists\n",
      "\u001b[32mSaved FeatureData[AlignedSequence] to: deblur_output/tree_out/rep_seqs_filt_aligned.qza\u001b[0m\n",
      "\u001b[32mSaved FeatureData[AlignedSequence] to: deblur_output/tree_out/rep_seqs_filt_aligned_masked.qza\u001b[0m\n"
     ]
    }
   ],
   "source": [
    "python /home/junyuchen/Lab/Amplicon-SOP/Scripts/QIIME2_workflow.py -i /home/junyuchen/Lab/Amplicon-SOP/Demo/sample_table.txt --pair True -fl 151 -rl 151 -r /home/LDlab/DataBases/QIIME2/silva-132-99-515-806-nb-classifier.qza -md /home/junyuchen/Lab/Amplicon-SOP/Demo/metadata.txt -sp /home/junyuchen/Lab/Amplicon-SOP/Scripts/qiime2_custom_scripts -n 20"
   ]
  },
  {
   "cell_type": "code",
   "execution_count": null,
   "metadata": {},
   "outputs": [],
   "source": []
  }
 ],
 "metadata": {
  "kernelspec": {
   "display_name": "Bash",
   "language": "bash",
   "name": "bash"
  },
  "language_info": {
   "codemirror_mode": "shell",
   "file_extension": ".sh",
   "mimetype": "text/x-sh",
   "name": "bash"
  }
 },
 "nbformat": 4,
 "nbformat_minor": 4
}
