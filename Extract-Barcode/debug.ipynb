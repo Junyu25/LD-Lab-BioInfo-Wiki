{
 "cells": [
  {
   "cell_type": "code",
   "execution_count": null,
   "metadata": {},
   "outputs": [],
   "source": []
  },
  {
   "cell_type": "code",
   "execution_count": 1,
   "metadata": {},
   "outputs": [
    {
     "name": "stdout",
     "output_type": "stream",
     "text": [
      "(qiime2-2020.2) "
     ]
    },
    {
     "ename": "",
     "evalue": "1",
     "output_type": "error",
     "traceback": []
    }
   ],
   "source": [
    "conda activate /home/LDlab/BioSoft/anaconda3/envs/qiime2-2020.2"
   ]
  },
  {
   "cell_type": "markdown",
   "metadata": {},
   "source": [
    "`/home/junyuchen/Lab/Extract-Sample/Nuohe_0608`"
   ]
  },
  {
   "cell_type": "markdown",
   "metadata": {},
   "source": [
    "```shell\n",
    "vsearch --fastq_mergepairs Wulu-200608_FDDP202420784-1a_1.clean.fq --reverse Wulu-200608_FDDP202420784-1a_2.clean.fq --fastqout Wulu-200608_FDDP202420784-1a_merged.fq --fastqout_notmerged_fwd Wulu-200608_FDDP202420784-1a_unmapped_1.fq --fastqout_notmerged_rev Wulu-200608_FDDP202420784-1a_unmapped_2.fq 1>vserach_log_wulu.txt 2>>vserach_log_wulu.txt\n",
    "```"
   ]
  },
  {
   "cell_type": "code",
   "execution_count": 3,
   "metadata": {},
   "outputs": [
    {
     "name": "stdout",
     "output_type": "stream",
     "text": [
      "total 8.0G\n",
      "drwxrwxr-x 7 junyuchen junyuchen 4.0K Jul 28 21:09 \u001b[0m\u001b[01;34m.\u001b[0m\n",
      "drwxrwxr-x 4 junyuchen junyuchen 4.0K Jul 28 21:11 \u001b[01;34m..\u001b[0m\n",
      "drwxrwxr-x 2 junyuchen junyuchen 4.0K Jul 28 21:09 \u001b[01;34m.ipynb_checkpoints\u001b[0m\n",
      "-rw-rw-r-- 1 junyuchen junyuchen 1.0K Jul 28 21:00 .wulu_sample_index.txt.swp\n",
      "drwxrwxr-x 2 junyuchen junyuchen 4.0K Jul 28 21:01 \u001b[01;34mF_no_math_barcodes\u001b[0m\n",
      "-rw-rw-r-- 1 junyuchen junyuchen 251M Jul 28 20:59 MultiplexedPairedEndBarcodeInSequence.qza\n",
      "-rw-rw-r-- 1 junyuchen junyuchen 251M Jul 28 21:00 MultiplexedPairedEndBarcodeInSequence1.qza\n",
      "-rw-rw-r-- 1 junyuchen junyuchen 1.3G Jul 28 20:59 Wulu-200608_FDDP202420784-1a_1.clean.fq\n",
      "-rw-rw-r-- 1 junyuchen junyuchen 1.3G Jul 28 21:00 Wulu-200608_FDDP202420784-1a_2.clean.fq\n",
      "-rw-rw-r-- 1 junyuchen junyuchen 2.3G Jul 28 21:05 Wulu-200608_FDDP202420784-1a_merged.fq\n",
      "-rw-rw-r-- 1 junyuchen junyuchen  12M Jul 28 21:05 Wulu-200608_FDDP202420784-1a_unmapped_1.fq\n",
      "-rw-rw-r-- 1 junyuchen junyuchen  12M Jul 28 21:05 Wulu-200608_FDDP202420784-1a_unmapped_2.fq\n",
      "-rw-rw-r-- 1 junyuchen junyuchen 3.1K Jul 28 21:00 metadata_0608_qiime1.txt\n",
      "-rw-rw-r-- 1 junyuchen junyuchen 3.4K Jul 28 20:59 metadata_0608_qiime2.txt\n",
      "-rw-rw-r-- 1 junyuchen junyuchen 263M Jul 28 20:59 multiplexed-seqs1.qza\n",
      "drwxrwxr-x 2 junyuchen junyuchen 4.0K Jul 28 20:59 \u001b[01;34mmuxed-se-barcode-in-seq\u001b[0m\n",
      "drwxrwxr-x 2 junyuchen junyuchen 4.0K Jul 28 20:58 \u001b[01;34mparse\u001b[0m\n",
      "-rw-rw-r-- 1 junyuchen junyuchen 8.6M Jul 28 20:59 per_samples.qza\n",
      "-rw-rw-r-- 1 junyuchen junyuchen 8.6M Jul 28 20:59 per_samples1.qza\n",
      "drwxrwxr-x 2 junyuchen junyuchen 4.0K Jul 28 20:59 \u001b[01;34mpre_de_barcode_adjust\u001b[0m\n",
      "-rw-rw-r-- 1 junyuchen junyuchen 2.3G Jul 28 20:59 qzp_merged.fq\n",
      "-rw-rw-r-- 1 junyuchen junyuchen  12M Jul 28 21:00 qzp_unmapped_1.fq\n",
      "-rw-rw-r-- 1 junyuchen junyuchen  12M Jul 28 20:59 qzp_unmapped_2.fq\n",
      "-rw-rw-r-- 1 junyuchen junyuchen  990 Jul 28 21:05 vserach_log_wulu.txt\n",
      "-rw-rw-r-- 1 junyuchen junyuchen  898 Jul 28 20:59 wulu_sample_index.txt\n",
      "(qiime2-2020.2) "
     ]
    },
    {
     "ename": "",
     "evalue": "1",
     "output_type": "error",
     "traceback": []
    }
   ],
   "source": [
    "ls /home/junyuchen/Lab/Extract-Sample/Nuohe_0608 -alh"
   ]
  },
  {
   "cell_type": "code",
   "execution_count": 5,
   "metadata": {},
   "outputs": [
    {
     "name": "stdout",
     "output_type": "stream",
     "text": [
      "@A00808:379:HLTMFDRXX:2:2101:25726:1454 1:N:0:CGTAGATG+CGATGCTT\n",
      "CGATGTCCTACGGGGGGCAGCAGTGGGGAATATTGCACAATGGGCGCAAGCCTGATGCAGCGACGCCGCGTGAGGGATGGAGGCCTTCGGGTTGTAAACCTCTTTTATCGGGGAGCAAGCGAGAGTGAGTTTACCCGTTGAATAAGCACCGGCTAACTACGTGCCAGCAGCCGCGGTAATACGTAGGGTGCAAGCGTTATCCGGAATTATTGGGCGTAAAGGGCTCGTAGGCGGTTCGTCGCGTCCGGTG\n",
      "+\n",
      "FFF:FFFFFFFFFFFFFFFFFFFFFFFFF,FFFFFFFFFFFFFFFFFFFFFFFF:FFFFFFFFFFFFFFFFF:FFFFFFFFFFFFFFFFFFFFFFFFFFFFFFFFFFFFFFFFFFFF,FFFFFFFFFFFFFF:FFFFFFFFFFFFFFFFFFFFFFFFFFFFFFFFFFFFFFF:FFFFFFFFF:FFFF,F,FFFFFFFFFFFF,,F,FFFFFF,FFFFFFFF,FF:FF:F,,FF,FFFF:FFFF::FF,FF\n",
      "@A00808:379:HLTMFDRXX:2:2101:18258:2957 1:N:0:CGTAGATG+CGATGCTT\n",
      "CAGATCCCTACGGGGGGCAGCAGTGGGGAATATTGCACAATGGGGGAAACCCTGATGCAGCAACGCCGCGTGAGTGATGAAGGTTTTCGGATCGTAAAACTCTGTCTTTGGGGAAGATAATGACGGTACCCAAGGAGGAAGCCACGGCTAACTACGTGCCAGCAGCCGCGGTAATACGTAGGTGGCGAGCGTTATCCGGATTTACTGGGCGTAAAGGGAGCGTAGGCGGATGATTAAGTGGGATGTGAAA\n",
      "+\n",
      "FFFFFFFFFF:FFFFFFFFFFFFFFFFFF:FFFFFFFFFFFFFFFFFFFFFFF:FFFFFFFFFFFFFFFFFF:FFFFFFFFFFFFFFFFFFFFFFFF:FFFF:FFFFFFFFFF::F:F:FFF:FFFFFFFFF:FF:FFFFFFFFFF:FFFFFFFFF:FFFFFFFFFFFFF::FFFFFFFFFFF:,FFFFFFFFFFFFF:FFFFFFF:FFFF:FF:F,FFFFFFF:FFF:FF,FFFFFF,:,FF:::FFFF\n",
      "@A00808:379:HLTMFDRXX:2:2101:28519:3850 1:N:0:CGTAGATG+CGTTGCTT\n",
      "CACGATGACTACTCGGGTATCTAATCCTGTTTGCTCCCCACGCTTTCGAGCCTCAACGTCAGTCATCGTCCAGTAAGCCGCCTTCGCCACTGGTGTTCCTCCCAATATCTACGCATTTCACCGCTACACTGGGAATTCCACTTACCTCTCCGACACTCTAGCTGCATAGTTTCCAAAGCAGTCCCGGGGTTGAGCCCCGGGCTTTCACTTCAGACTTACACAGCCGTCTACGCTCCCTTTACACCCAGTA\n",
      "(qiime2-2020.2) "
     ]
    },
    {
     "ename": "",
     "evalue": "1",
     "output_type": "error",
     "traceback": []
    }
   ],
   "source": [
    "head ./Nuohe_0608/Wulu-200608_FDDP202420784-1a_1.clean.fq"
   ]
  },
  {
   "cell_type": "code",
   "execution_count": 8,
   "metadata": {},
   "outputs": [
    {
     "name": "stdout",
     "output_type": "stream",
     "text": [
      "@A00808:379:HLTMFDRXX:2:2101:25726:1454 2:N:0:CGTAGATG+CGATGCTT\n",
      "ATGAGCGACTACTCGGGTATCTAATCCTGTTCGCTCCCCACGCTTTCGCTCCTCAGCGTCAGTAACGGCCCAGAGACCTGCCTTCGCCATTGGTGTTCTTCCCGATATCTACACATTCCACCGTTACACCGGGAATTCCAGTCTCCCCTACCGCACTCAAGCCCGCCCGTACCCGGCGCGGATCCACCGTTAAGCGATGGACTTTCACACCGGACGCGACGAACCGCCTACGAGCCCTTTACGCCCAATA\n",
      "+\n",
      ",FFFFFFFFFFFFFFFFFFFFFFFFFF:FFFFFFFFFFFFFFFFFFFFFFFFFFFFFFFFFFFFFFFFFFFFFFFFFF:FFFFFF,FFFF,F:F:FFFFFFF:FF::FFF:F,:,:::FFF,FFFFF:FFF,::,FFFF,:FFFFFFFF,FF,FFFFF::,FFF,FFFF:,FFFF,FFF:,:FFF:FF,FFFF:F,FF:,FFFFFFFFFFF,:FF:FFFFFF,FF,FF,:F:FFFFF:,FFFFFF:FF:F\n",
      "@A00808:379:HLTMFDRXX:2:2101:18258:2957 2:N:0:CGTAGATG+CGATGCTT\n",
      "GAAAAGGACTACTAGGGTATCTAATCCTGTTTGCTCCCCACGCTTTCGAGCCTCAGCGTCAGTTACAGTCCAGAGAGTCGCCTTCGCCACTGGTGTTCTTCCTAATCTCTACGCATTTCACCGCTACACTAGGAATTCCACTCTCCTCTCCTGCACTCTAGATAACCAGTTTGGAATGCAGCACCCAAGTTGAGCCCGGGTATTTCACATCCCACTTAATCATCCGCCTACGCTCCCTTTACGCCCAGTA\n",
      "+\n",
      ",:F:FFFFFFFFFFFFFFFFFFFFFFFFFFFFFFFFFFFFFFFFFFFFFF:FFFFFFFFFFFFFFFF:FFFFFFFFFFFFFFFFF,F:FFFFF::FFFFFFFFFFFFFFF:FFF:F::FFF:FFFFFFFF:FF::FFFF:FFFFFFFFFFFF,FFFFFFF,FFFFFFFFFFFFFFFFFFFFFFFFFFF,FF:FFFFFF,:FFFFFFFF:FFFFFF:FFFFFFFFFFFF,FFFFFFFFF,FFF,FFFFF:F\n",
      "@A00808:379:HLTMFDRXX:2:2101:28519:3850 2:N:0:CGTAGATG+CGTTGCTT\n",
      "GGATGTCCTACGGGGGGCTGCAGTGGGGAATATTGCACAATGGGGGAAACCCTGATGCAGCGACGCCGCGTGAGCGAAGAAGTATTTCGGTATGTAAAGCTCTATCAGCAGGGAAGAAAATGACGGTACCTGACTAAGAAGCACCGGCTAAATACGTGCCAGCAGCCGCGGTAATACGTATGGTGCAAGCGTTATCCGGATTTACTGGGTGGAAAGGGAGCGTAGACGGCTGTGTAAGTCTGAAGTGAAA\n",
      "(qiime2-2020.2) "
     ]
    },
    {
     "ename": "",
     "evalue": "1",
     "output_type": "error",
     "traceback": []
    }
   ],
   "source": [
    "head ./Nuohe_0608/Wulu-200608_FDDP202420784-1a_2.clean.fq"
   ]
  },
  {
   "cell_type": "code",
   "execution_count": 7,
   "metadata": {},
   "outputs": [
    {
     "name": "stdout",
     "output_type": "stream",
     "text": [
      "@A00808:379:HLTMFDRXX:2:2101:25726:1454 1:N:0:CGTAGATG+CGATGCTT\n",
      "CGATGTCCTACGGGGGGCAGCAGTGGGGAATATTGCACAATGGGCGCAAGCCTGATGCAGCGACGCCGCGTGAGGGATGGAGGCCTTCGGGTTGTAAACCTCTTTTATCGGGGAGCAAGCGAGAGTGAGTTTACCCGTTGAATAAGCACCGGCTAACTACGTGCCAGCAGCCGCGGTAATACGTAGGGTGCAAGCGTTATCCGGAATTATTGGGCGTAAAGGGCTCGTAGGCGGTTCGTCGCGTCCGGTGTGAAAGTCCATCGCTTAACGGTGGATCCGCGCCGGGTACGGGCGGGCTTGAGTGCGGTAGGGGAGACTGGAATTCCCGGTGTAACGGTGGAATGTGTAGATATCGGGAAGAACACCAATGGCGAAGGCAGGTCTCTGGGCCGTTACTGACGCTGAGGAGCGAAAGCGTGGGGAGCGAACAGGATTAGATACCCGAGTAGTCGCTCAT\n",
      "+\n",
      "FFF:FFFFFFFFFFFFFFFFFFFFFFFFF,FFFFFFFFFFFFFFFFFFFFFFFF:FFFFFFFFFFFFFFFFF:FFFFFFFFFFFFFFFFFFFFFFFFFFFFFFFFFFFFFFFFFFFF,FFFFFFFFFFFFFF:FFFFFFFFFFFFFFFFFFFFFFFFFFFFFFFFFFFFFFF:FFFFFFFFF:FFFF,F,FFFFFFFFFFFF,,F,FJJJJJJJJJJJJJJJJJJJJJJJJJJJJJJJJJJJJJJJJJJJFFFFFFF,:FF,F:FFFF,FF:FFF:,:FFF,FFFF,:FFFF,FFF,::FFFFF,FF,FFFFFFFF:,FFFF,::,FFF:FFFFF,FFF:::,:,F:FFF::FF:FFFFFFF:F:F,FFFF,FFFFFF:FFFFFFFFFFFFFFFFFFFFFFFFFFFFFFFFFFFFFFFFFFFFFFFFFF:FFFFFFFFFFFFFFFFFFFFFFFFFF,\n",
      "@A00808:379:HLTMFDRXX:2:2101:18258:2957 1:N:0:CGTAGATG+CGATGCTT\n",
      "CAGATCCCTACGGGGGGCAGCAGTGGGGAATATTGCACAATGGGGGAAACCCTGATGCAGCAACGCCGCGTGAGTGATGAAGGTTTTCGGATCGTAAAACTCTGTCTTTGGGGAAGATAATGACGGTACCCAAGGAGGAAGCCACGGCTAACTACGTGCCAGCAGCCGCGGTAATACGTAGGTGGCGAGCGTTATCCGGATTTACTGGGCGTAAAGGGAGCGTAGGCGGATGATTAAGTGGGATGTGAAATACCCGGGCTCAACTTGGGTGCTGCATTCCAAACTGGTTATCTAGAGTGCAGGAGAGGAGAGTGGAATTCCTAGTGTAGCGGTGAAATGCGTAGAGATTAGGAAGAACACCAGTGGCGAAGGCGACTCTCTGGACTGTAACTGACGCTGAGGCTCGAAAGCGTGGGGAGCAAACAGGATTAGATACCCTAGTAGTCCTTTTC\n",
      "+\n",
      "FFFFFFFFFF:FFFFFFFFFFFFFFFFFF:FFFFFFFFFFFFFFFFFFFFFFF:FFFFFFFFFFFFFFFFFF:FFFFFFFFFFFFFFFFFFFFFFFF:FFFF:FFFFFFFFFF::F:F:FFF:FFFFFFFFF:FF:FFFFFFFFFF:FFFFFFFFF:FFFFFFFFFFFFF::FFFFFFFFFFF:,FFFFFFFFFFFFF:FFFJJJJJJJJJJJJJJJJJJJJJJJJJJJJJJJJJJJJJJJJJJJJJJJJFF:,FFFFFF:FF,FFFFFFFFFFFFFFFFFFFFFFFFFFF,FFFFFFF,FFFFFFFFFFFF:FFFF::FF:FFFFFFFF:FFF::F:FFF:FFFFFFFFFFFFFFF::FFFFF:F,FFFFFFFFFFFFFFFFF:FFFFFFFFFFFFFFFF:FFFFFFFFFFFFFFFFFFFFFFFFFFFFFFFFFFFFFFFFFFFFFF:F:,\n",
      "@A00808:379:HLTMFDRXX:2:2101:28519:3850 1:N:0:CGTAGATG+CGTTGCTT\n",
      "CACGATGACTACTCGGGTATCTAATCCTGTTTGCTCCCCACGCTTTCGAGCCTCAACGTCAGTCATCGTCCAGTAAGCCGCCTTCGCCACTGGTGTTCCTCCCAATATCTACGCATTTCACCGCTACACTGGGAATTCCACTTACCTCTCCGACACTCTAGCTGCATAGTTTCCAAAGCAGTCCCGGGGTTGAGCCCCGGGCTTTCACTTCAGACTTACACAGCCGTCTACGCTCCCTTTACACCCAGTAAATCCGGATAACGCTTGCACCATACGTATTACCGCGGCTGCTGGCACGTATTTAGCCGGTGCTTCTTAGTCAGGTACCGTCATTTTCTTCCCTGCTGATAGAGCTTTACATACCGAAATACTTCTTCGCTCACGCGGCGTCGCTGCATCAGGGTTTCCCCCATTGTGCAATATTCCCCACTGCAGCCCCCCGTAGGACATCC\n",
      "(qiime2-2020.2) "
     ]
    },
    {
     "ename": "",
     "evalue": "1",
     "output_type": "error",
     "traceback": []
    }
   ],
   "source": [
    "head ./Nuohe_0608/Wulu-200608_FDDP202420784-1a_merged.fq"
   ]
  },
  {
   "cell_type": "markdown",
   "metadata": {},
   "source": [
    "```shell \n",
    "python /home/luwu/codes/parse_sample_perfectmatch.py -i qzp_merged.fq -t wulu_sample_index.txt -f 17 -r 21\n",
    "```"
   ]
  },
  {
   "cell_type": "markdown",
   "metadata": {},
   "source": [
    "#### Bug"
   ]
  },
  {
   "cell_type": "code",
   "execution_count": null,
   "metadata": {},
   "outputs": [],
   "source": [
    "(base) junyuchen@node1:~/Lab/Extract-Sample/Nuohe_0608$ python /home/luwu/codes/parse_sample_perfectmatch.py -i qzp_merged.fq -t wulu_sample_index.txt -f 17 -r 21\n",
    "Usage example: python /home/yxtan/qiime2_custom_scripts/parse_sample_perfectmatch -i Undetermined_merged.fq -t sample_indexes.txt -f 20 -r 18\n",
    "Traceback (most recent call last):\n",
    "  File \"/home/luwu/codes/parse_sample_perfectmatch.py\", line 171, in <module>\n",
    "    (count_file, count_used) = readrecord(input_fastq,sample_index, f_index, r_index, l_fp, l_rp)\n",
    "  File \"/home/luwu/codes/parse_sample_perfectmatch.py\", line 107, in readrecord\n",
    "    sample_name = sample_index[dict_index]\n",
    "KeyError: 'TTAGGC_CAAAAG'"
   ]
  },
  {
   "cell_type": "code",
   "execution_count": null,
   "metadata": {},
   "outputs": [],
   "source": []
  },
  {
   "cell_type": "code",
   "execution_count": null,
   "metadata": {},
   "outputs": [],
   "source": [
    "python /home/luwu/codes/parse_sample_perfectmatch.py -i Wulu-200608_FDDP202420784-1a_merged.fq -t wulu_sample_index.txt -f 17 -r 21"
   ]
  },
  {
   "cell_type": "code",
   "execution_count": null,
   "metadata": {},
   "outputs": [],
   "source": [
    "python /home/junyuchen/Lab/Extract-Sample/parse_sample_perfectmatch.py  -i Wulu-200608_FDDP202420784-1a_merged.fq -t wulu_sample_index.txt -f 17 -r 21"
   ]
  }
 ],
 "metadata": {
  "kernelspec": {
   "display_name": "Bash",
   "language": "bash",
   "name": "bash"
  },
  "language_info": {
   "codemirror_mode": "shell",
   "file_extension": ".sh",
   "mimetype": "text/x-sh",
   "name": "bash"
  }
 },
 "nbformat": 4,
 "nbformat_minor": 4
}
