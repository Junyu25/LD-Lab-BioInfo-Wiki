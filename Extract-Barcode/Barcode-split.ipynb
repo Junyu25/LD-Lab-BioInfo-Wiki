{
 "cells": [
  {
   "cell_type": "code",
   "execution_count": 1,
   "metadata": {},
   "outputs": [],
   "source": [
    "import os\n",
    "import sys\n",
    "import glob\n",
    "import string\n",
    "import argparse\n",
    "from Bio import SeqIO\n",
    "from Bio.Seq import Seq\n",
    "import time"
   ]
  },
  {
   "cell_type": "code",
   "execution_count": 2,
   "metadata": {},
   "outputs": [],
   "source": [
    "#conver sample_index_table to two lists and a dictionary\n",
    "def index_2_sample(sample_index_table):\n",
    "  f_index = []\n",
    "  r_index = []\n",
    "  sample_index = {}\n",
    "  File = open(sample_index_table)\n",
    "  for line in File: \n",
    "    line = line.strip()\n",
    "    Fields = line.split(\"\\t\")\n",
    "    if len(Fields) != 3:\n",
    "      print('The input sample table has incorret number of columns; Exit now.')\n",
    "      exit(0)\n",
    "    sample_name = Fields[0]\n",
    "    f_i = Fields[1]\n",
    "    r_i = Fields[2]\n",
    "    if f_i not in f_index:\n",
    "      f_index.append(f_i)\n",
    "    if r_i not in r_index:\n",
    "      r_index.append(r_i)\n",
    "    dict_index = f_i+\"_\"+r_i\n",
    "    if dict_index in sample_index:\n",
    "      print('The input sample table has duplicated samples with the same index-pair, please check first; Exit now.')\n",
    "      exit(0)\n",
    "    sample_index[dict_index] = sample_name\n",
    "  return (sample_index, f_index, r_index)"
   ]
  },
  {
   "cell_type": "code",
   "execution_count": 3,
   "metadata": {},
   "outputs": [
    {
     "name": "stdout",
     "output_type": "stream",
     "text": [
      "01\tCGATGT\tACTGAT\n",
      "02\tTGACCA\tACTGAT\n",
      "03\tACAGTG\tACTGAT\n",
      "04\tGCCAAT\tACTGAT\n",
      "05\tCAGATC\tACTGAT\n",
      "06\tCTTGTA\tACTGAT\n",
      "07\tATCACG\tACTGAT\n",
      "08\tCGATGT\tATGAGC\n",
      "09\tTGACCA\tATGAGC\n",
      "10\tACAGTG\tATGAGC\n"
     ]
    }
   ],
   "source": [
    "!head /home/junyuchen/Lab/Extract-Sample/Nuohe_0608/wulu_sample_index.txt"
   ]
  },
  {
   "cell_type": "code",
   "execution_count": 5,
   "metadata": {},
   "outputs": [],
   "source": [
    "(sample_index, f_index, r_index) = index_2_sample(\"/home/junyuchen/Lab/Extract-Sample/Nuohe_0608/wulu_sample_index.txt\")"
   ]
  },
  {
   "cell_type": "code",
   "execution_count": 10,
   "metadata": {},
   "outputs": [
    {
     "data": {
      "text/plain": [
       "{'CGATGT_ACTGAT': '01',\n",
       " 'TGACCA_ACTGAT': '02',\n",
       " 'ACAGTG_ACTGAT': '03',\n",
       " 'GCCAAT_ACTGAT': '04',\n",
       " 'CAGATC_ACTGAT': '05',\n",
       " 'CTTGTA_ACTGAT': '06',\n",
       " 'ATCACG_ACTGAT': '07',\n",
       " 'CGATGT_ATGAGC': '08',\n",
       " 'TGACCA_ATGAGC': '09',\n",
       " 'ACAGTG_ATGAGC': '10',\n",
       " 'GCCAAT_ATGAGC': '11',\n",
       " 'CAGATC_ATGAGC': '12',\n",
       " 'CTTGTA_ATGAGC': '13',\n",
       " 'ATCACG_ATGAGC': '14',\n",
       " 'CGATGT_ATTCCT': '15',\n",
       " 'TGACCA_ATTCCT': '16',\n",
       " 'ACAGTG_ATTCCT': '17',\n",
       " 'GCCAAT_ATTCCT': '18',\n",
       " 'CAGATC_ATTCCT': '19',\n",
       " 'CTTGTA_ATTCCT': '20',\n",
       " 'ATCACG_ATTCCT': '21',\n",
       " 'CGATGT_CAAAAG': '22',\n",
       " 'TGACCA_CAAAAG': '23',\n",
       " 'ACAGTG_CAAAAG': '24',\n",
       " 'GCCAAT_CAAAAG': '25',\n",
       " 'CAGATC_CAAAAG': '26',\n",
       " 'CTTGTA_CAAAAG': '27',\n",
       " 'ATCACG_CAAAAG': '28',\n",
       " 'CGATGT_CAACTA': '29',\n",
       " 'TGACCA_CAACTA': '30',\n",
       " 'ACAGTG_CAACTA': '31',\n",
       " 'GCCAAT_CAACTA': '32',\n",
       " 'CAGATC_CAACTA': '33',\n",
       " 'CTTGTA_CAACTA': '34',\n",
       " 'ATCACG_CAACTA': '35',\n",
       " 'CGATGT_CACCGG': '36',\n",
       " 'TGACCA_CACCGG': '37',\n",
       " 'ACAGTG_CACCGG': '38',\n",
       " 'GCCAAT_CACCGG': '39',\n",
       " 'CAGATC_CACCGG': '40',\n",
       " 'CTTGTA_CACCGG': '41',\n",
       " 'ATCACG_CACCGG': '42',\n",
       " 'CGATGT_CACGAT': '43',\n",
       " 'TGACCA_CACGAT': '44',\n",
       " 'ACAGTG_CACGAT': '45',\n",
       " 'GCCAAT_CACGAT': '46',\n",
       " 'CAGATC_CACGAT': '47',\n",
       " 'CTTGTA_CACGAT': '48',\n",
       " 'ATCACG_CACGAT': '49',\n",
       " 'TTAGGC_CCAACA': '50'}"
      ]
     },
     "execution_count": 10,
     "metadata": {},
     "output_type": "execute_result"
    }
   ],
   "source": [
    "sample_index"
   ]
  },
  {
   "cell_type": "code",
   "execution_count": 11,
   "metadata": {},
   "outputs": [
    {
     "data": {
      "text/plain": [
       "['CGATGT',\n",
       " 'TGACCA',\n",
       " 'ACAGTG',\n",
       " 'GCCAAT',\n",
       " 'CAGATC',\n",
       " 'CTTGTA',\n",
       " 'ATCACG',\n",
       " 'TTAGGC']"
      ]
     },
     "execution_count": 11,
     "metadata": {},
     "output_type": "execute_result"
    }
   ],
   "source": [
    "f_index"
   ]
  },
  {
   "cell_type": "code",
   "execution_count": 12,
   "metadata": {},
   "outputs": [
    {
     "data": {
      "text/plain": [
       "['ACTGAT',\n",
       " 'ATGAGC',\n",
       " 'ATTCCT',\n",
       " 'CAAAAG',\n",
       " 'CAACTA',\n",
       " 'CACCGG',\n",
       " 'CACGAT',\n",
       " 'CCAACA']"
      ]
     },
     "execution_count": 12,
     "metadata": {},
     "output_type": "execute_result"
    }
   ],
   "source": [
    "r_index"
   ]
  },
  {
   "cell_type": "code",
   "execution_count": 14,
   "metadata": {},
   "outputs": [
    {
     "ename": "KeyError",
     "evalue": "'TTAGGC_CAAAAG'",
     "output_type": "error",
     "traceback": [
      "\u001b[0;31m---------------------------------------------------------------------------\u001b[0m",
      "\u001b[0;31mKeyError\u001b[0m                                  Traceback (most recent call last)",
      "\u001b[0;32m<ipython-input-14-35e7662a28e9>\u001b[0m in \u001b[0;36m<module>\u001b[0;34m\u001b[0m\n\u001b[0;32m----> 1\u001b[0;31m \u001b[0msample_index\u001b[0m\u001b[0;34m[\u001b[0m\u001b[0;34m\"TTAGGC_CAAAAG\"\u001b[0m\u001b[0;34m]\u001b[0m\u001b[0;34m\u001b[0m\u001b[0;34m\u001b[0m\u001b[0m\n\u001b[0m",
      "\u001b[0;31mKeyError\u001b[0m: 'TTAGGC_CAAAAG'"
     ]
    }
   ],
   "source": [
    "sample_index[\"TTAGGC_CAAAAG\"]"
   ]
  },
  {
   "cell_type": "markdown",
   "metadata": {},
   "source": [
    "`TTAGGC_CAAAAG` 这种index 方案没有用上"
   ]
  },
  {
   "cell_type": "markdown",
   "metadata": {},
   "source": [
    "并没有用上所有的index配对方案，出现对应不上的情况"
   ]
  },
  {
   "cell_type": "code",
   "execution_count": null,
   "metadata": {},
   "outputs": [],
   "source": []
  },
  {
   "cell_type": "code",
   "execution_count": null,
   "metadata": {},
   "outputs": [],
   "source": []
  },
  {
   "cell_type": "code",
   "execution_count": 21,
   "metadata": {
    "collapsed": true,
    "jupyter": {
     "outputs_hidden": true
    }
   },
   "outputs": [
    {
     "name": "stdout",
     "output_type": "stream",
     "text": [
      "01\n",
      "08\n",
      "15\n",
      "22\n",
      "29\n",
      "36\n",
      "43\n",
      "02\n",
      "09\n",
      "16\n",
      "23\n",
      "30\n",
      "37\n",
      "44\n",
      "03\n",
      "10\n",
      "17\n",
      "24\n",
      "31\n",
      "38\n",
      "45\n",
      "04\n",
      "11\n",
      "18\n",
      "25\n",
      "32\n",
      "39\n",
      "46\n",
      "05\n",
      "12\n",
      "19\n",
      "26\n",
      "33\n",
      "40\n",
      "47\n",
      "06\n",
      "13\n",
      "20\n",
      "27\n",
      "34\n",
      "41\n",
      "48\n",
      "07\n",
      "14\n",
      "21\n",
      "28\n",
      "35\n",
      "42\n",
      "49\n",
      "50\n"
     ]
    }
   ],
   "source": [
    "for f in f_index:\n",
    "    for r in r_index:\n",
    "        dict_index = str(f)+\"_\"+str(r)\n",
    "        if dict_index in sample_index.keys():\n",
    "            sample_name = sample_index[dict_index]\n",
    "            print(sample_name)"
   ]
  },
  {
   "cell_type": "code",
   "execution_count": null,
   "metadata": {},
   "outputs": [],
   "source": []
  },
  {
   "cell_type": "code",
   "execution_count": 17,
   "metadata": {},
   "outputs": [
    {
     "data": {
      "text/plain": [
       "'TTAGGC_CCAACA'"
      ]
     },
     "execution_count": 17,
     "metadata": {},
     "output_type": "execute_result"
    }
   ],
   "source": [
    "dict_index"
   ]
  },
  {
   "cell_type": "code",
   "execution_count": 18,
   "metadata": {},
   "outputs": [
    {
     "data": {
      "text/plain": [
       "dict_keys(['CGATGT_ACTGAT', 'TGACCA_ACTGAT', 'ACAGTG_ACTGAT', 'GCCAAT_ACTGAT', 'CAGATC_ACTGAT', 'CTTGTA_ACTGAT', 'ATCACG_ACTGAT', 'CGATGT_ATGAGC', 'TGACCA_ATGAGC', 'ACAGTG_ATGAGC', 'GCCAAT_ATGAGC', 'CAGATC_ATGAGC', 'CTTGTA_ATGAGC', 'ATCACG_ATGAGC', 'CGATGT_ATTCCT', 'TGACCA_ATTCCT', 'ACAGTG_ATTCCT', 'GCCAAT_ATTCCT', 'CAGATC_ATTCCT', 'CTTGTA_ATTCCT', 'ATCACG_ATTCCT', 'CGATGT_CAAAAG', 'TGACCA_CAAAAG', 'ACAGTG_CAAAAG', 'GCCAAT_CAAAAG', 'CAGATC_CAAAAG', 'CTTGTA_CAAAAG', 'ATCACG_CAAAAG', 'CGATGT_CAACTA', 'TGACCA_CAACTA', 'ACAGTG_CAACTA', 'GCCAAT_CAACTA', 'CAGATC_CAACTA', 'CTTGTA_CAACTA', 'ATCACG_CAACTA', 'CGATGT_CACCGG', 'TGACCA_CACCGG', 'ACAGTG_CACCGG', 'GCCAAT_CACCGG', 'CAGATC_CACCGG', 'CTTGTA_CACCGG', 'ATCACG_CACCGG', 'CGATGT_CACGAT', 'TGACCA_CACGAT', 'ACAGTG_CACGAT', 'GCCAAT_CACGAT', 'CAGATC_CACGAT', 'CTTGTA_CACGAT', 'ATCACG_CACGAT', 'TTAGGC_CCAACA'])"
      ]
     },
     "execution_count": 18,
     "metadata": {},
     "output_type": "execute_result"
    }
   ],
   "source": [
    "sample_index.keys()"
   ]
  },
  {
   "cell_type": "code",
   "execution_count": 19,
   "metadata": {},
   "outputs": [
    {
     "data": {
      "text/plain": [
       "dict_keys"
      ]
     },
     "execution_count": 19,
     "metadata": {},
     "output_type": "execute_result"
    }
   ],
   "source": [
    "type(sample_index.keys())"
   ]
  },
  {
   "cell_type": "code",
   "execution_count": null,
   "metadata": {
    "jupyter": {
     "source_hidden": true
    }
   },
   "outputs": [],
   "source": [
    "#parse FASTQ file using SeqIO\n",
    "def readrecord(input_fastq,sample_index, f_index, r_index, l_fp, l_rp):\n",
    "  start_time = time.time()\n",
    "  dict_record={}\n",
    "  dict_record[\"r_index_not_mapped\"]=[]\n",
    "  dict_record[\"f_index_not_mapped\"]=[]\n",
    "  l_i_f = len(f_index[0])\n",
    "  l_i_r = len(r_index[0])\n",
    "  count_file=0\n",
    "  count_used=0\n",
    "  for record in SeqIO.parse(input_fastq, \"fastq\"):\n",
    "    seq  = record.seq\n",
    "    i_f = seq[0:l_i_f]\n",
    "    i_r = seq[-l_i_r:].reverse_complement()\n",
    "    #Second, for each read, check the first Nbp for the forward index (N = the length of the index, and all the forward index must have the same length)\n",
    "    if i_f in f_index:\n",
    "      #Third, if the read past the second steo, check the last Mbp for the reverse index (M = the length of the index, and all the reverse index must have the same length)\n",
    "      if i_r in r_index:\n",
    "        record_in = record[(l_i_f+int(l_fp)):-(l_i_r+int(l_rp))]\n",
    "        dict_index = str(i_f)+\"_\"+str(i_r)\n",
    "        sample_name = sample_index[dict_index]\n",
    "        count_used+=1\n",
    "        #Four, if both ends of the read have the indexes, assign this read to the fastq file of the corresponding sample. (trunc the index and primers at the mean time.)\n",
    "        if dict_record.get(sample_name)==None:\n",
    "          dict_record[sample_name] = [record_in]\n",
    "        else:\n",
    "          dict_record[sample_name].append(record_in)\n",
    "      else:\n",
    "        dict_record[\"r_index_not_mapped\"].append(record)\n",
    "    else:\n",
    "      dict_record[\"f_index_not_mapped\"].append(record)\n",
    "    count_file+=1\n",
    "\n",
    "  outfile = open(\"reads_distr_of_samples.txt\",'w')\n",
    "  for sample_key in dict_record.keys():\n",
    "    SeqIO.write(dict_record[sample_key],\"parse/\"+sample_key+\".fastq\", \"fastq\")\n",
    "    outfile.write(sample_key+\"\\t\"+str(len(dict_record[sample_key]))+\"\\n\")\n",
    "  outfile.close()\n",
    "\n",
    "  #check files with emplty reads by using the keys in sample_index and dict_record\n",
    "  outfile = open(\"empty_samples.txt\",'w')\n",
    "  for sample_v in sample_index.values():\n",
    "    if sample_v not in dict_record.keys():\n",
    "      outfile.write(sample_v+\"\\n\")\n",
    "\n",
    "  outfile.write(\"Total number of reads:\"+str(count_file)+\"\\n\"+\"Total number of reads with appropriated index:\"+str(count_used)+\"\\n\"+\"The percentage of useful reads:\"+str(count_used*100/count_file)+\"%\\n\")\n",
    "  outfile.close()\n",
    "  print(\"Parsing time: %s seconds \" % (time.time() - start_time))\n",
    "  return (count_file, count_used)"
   ]
  },
  {
   "cell_type": "code",
   "execution_count": 25,
   "metadata": {},
   "outputs": [
    {
     "name": "stdout",
     "output_type": "stream",
     "text": [
      "total 2.2G\n",
      "drwxrwxr-x 2 junyuchen junyuchen 4.0K Jul 28 21:52 .\n",
      "drwxrwxr-x 7 junyuchen junyuchen 4.0K Jul 28 21:53 ..\n",
      "-rw-rw-r-- 1 junyuchen junyuchen  11M Jul 28 21:51 01.fastq\n",
      "-rw-rw-r-- 1 junyuchen junyuchen  13M Jul 28 21:52 02.fastq\n",
      "-rw-rw-r-- 1 junyuchen junyuchen  11M Jul 28 21:52 03.fastq\n",
      "-rw-rw-r-- 1 junyuchen junyuchen 9.2M Jul 28 21:52 04.fastq\n",
      "-rw-rw-r-- 1 junyuchen junyuchen  12M Jul 28 21:52 05.fastq\n",
      "-rw-rw-r-- 1 junyuchen junyuchen  13M Jul 28 21:52 06.fastq\n",
      "-rw-rw-r-- 1 junyuchen junyuchen 1.5M Jul 28 21:52 07.fastq\n",
      "-rw-rw-r-- 1 junyuchen junyuchen  18M Jul 28 21:51 08.fastq\n",
      "-rw-rw-r-- 1 junyuchen junyuchen  14M Jul 28 21:52 09.fastq\n",
      "-rw-rw-r-- 1 junyuchen junyuchen  14M Jul 28 21:52 10.fastq\n",
      "-rw-rw-r-- 1 junyuchen junyuchen  17M Jul 28 21:52 11.fastq\n",
      "-rw-rw-r-- 1 junyuchen junyuchen  16M Jul 28 21:52 12.fastq\n",
      "-rw-rw-r-- 1 junyuchen junyuchen  16M Jul 28 21:52 13.fastq\n",
      "-rw-rw-r-- 1 junyuchen junyuchen 3.4M Jul 28 21:52 14.fastq\n",
      "-rw-rw-r-- 1 junyuchen junyuchen  26M Jul 28 21:51 15.fastq\n",
      "-rw-rw-r-- 1 junyuchen junyuchen  21M Jul 28 21:52 16.fastq\n",
      "-rw-rw-r-- 1 junyuchen junyuchen  17M Jul 28 21:52 17.fastq\n",
      "-rw-rw-r-- 1 junyuchen junyuchen  20M Jul 28 21:51 18.fastq\n",
      "-rw-rw-r-- 1 junyuchen junyuchen  20M Jul 28 21:52 19.fastq\n",
      "-rw-rw-r-- 1 junyuchen junyuchen  22M Jul 28 21:52 20.fastq\n",
      "-rw-rw-r-- 1 junyuchen junyuchen 2.2M Jul 28 21:52 21.fastq\n",
      "-rw-rw-r-- 1 junyuchen junyuchen  35M Jul 28 21:52 22.fastq\n",
      "-rw-rw-r-- 1 junyuchen junyuchen  29M Jul 28 21:52 23.fastq\n",
      "-rw-rw-r-- 1 junyuchen junyuchen  24M Jul 28 21:51 24.fastq\n",
      "-rw-rw-r-- 1 junyuchen junyuchen  27M Jul 28 21:51 25.fastq\n",
      "-rw-rw-r-- 1 junyuchen junyuchen  31M Jul 28 21:52 26.fastq\n",
      "-rw-rw-r-- 1 junyuchen junyuchen  32M Jul 28 21:51 27.fastq\n",
      "-rw-rw-r-- 1 junyuchen junyuchen 3.7M Jul 28 21:52 28.fastq\n",
      "-rw-rw-r-- 1 junyuchen junyuchen  21M Jul 28 21:51 29.fastq\n",
      "-rw-rw-r-- 1 junyuchen junyuchen  18M Jul 28 21:52 30.fastq\n",
      "-rw-rw-r-- 1 junyuchen junyuchen  14M Jul 28 21:52 31.fastq\n",
      "-rw-rw-r-- 1 junyuchen junyuchen  17M Jul 28 21:52 32.fastq\n",
      "-rw-rw-r-- 1 junyuchen junyuchen  19M Jul 28 21:52 33.fastq\n",
      "-rw-rw-r-- 1 junyuchen junyuchen  16M Jul 28 21:52 34.fastq\n",
      "-rw-rw-r-- 1 junyuchen junyuchen 1.8M Jul 28 21:52 35.fastq\n",
      "-rw-rw-r-- 1 junyuchen junyuchen  37M Jul 28 21:52 36.fastq\n",
      "-rw-rw-r-- 1 junyuchen junyuchen  33M Jul 28 21:51 37.fastq\n",
      "-rw-rw-r-- 1 junyuchen junyuchen  26M Jul 28 21:52 38.fastq\n",
      "-rw-rw-r-- 1 junyuchen junyuchen  30M Jul 28 21:52 39.fastq\n",
      "-rw-rw-r-- 1 junyuchen junyuchen  34M Jul 28 21:52 40.fastq\n",
      "-rw-rw-r-- 1 junyuchen junyuchen  31M Jul 28 21:51 41.fastq\n",
      "-rw-rw-r-- 1 junyuchen junyuchen 4.3M Jul 28 21:51 42.fastq\n",
      "-rw-rw-r-- 1 junyuchen junyuchen  33M Jul 28 21:51 43.fastq\n",
      "-rw-rw-r-- 1 junyuchen junyuchen  28M Jul 28 21:52 44.fastq\n",
      "-rw-rw-r-- 1 junyuchen junyuchen  21M Jul 28 21:52 45.fastq\n",
      "-rw-rw-r-- 1 junyuchen junyuchen  26M Jul 28 21:52 46.fastq\n",
      "-rw-rw-r-- 1 junyuchen junyuchen  29M Jul 28 21:51 47.fastq\n",
      "-rw-rw-r-- 1 junyuchen junyuchen  27M Jul 28 21:51 48.fastq\n",
      "-rw-rw-r-- 1 junyuchen junyuchen  12M Jul 28 21:51 49.fastq\n",
      "-rw-rw-r-- 1 junyuchen junyuchen 1.3G Jul 28 21:51 f_index_not_mapped.fastq\n",
      "-rw-rw-r-- 1 junyuchen junyuchen  26M Jul 28 21:50 r_index_not_mapped.fastq\n"
     ]
    }
   ],
   "source": [
    "!ls /home/junyuchen/Lab/Extract-Sample/Nuohe_0608/parse -alh"
   ]
  },
  {
   "cell_type": "code",
   "execution_count": 26,
   "metadata": {},
   "outputs": [
    {
     "name": "stdout",
     "output_type": "stream",
     "text": [
      "total 8.0G\n",
      "drwxrwxr-x 7 junyuchen junyuchen 4.0K Jul 28 21:53 .\n",
      "drwxrwxr-x 4 junyuchen junyuchen 4.0K Jul 28 22:13 ..\n",
      "drwxrwxr-x 2 junyuchen junyuchen 4.0K Jul 28 21:09 .ipynb_checkpoints\n",
      "-rw-rw-r-- 1 junyuchen junyuchen 1.0K Jul 28 21:00 .wulu_sample_index.txt.swp\n",
      "drwxrwxr-x 2 junyuchen junyuchen 4.0K Jul 28 21:01 F_no_math_barcodes\n",
      "-rw-rw-r-- 1 junyuchen junyuchen 251M Jul 28 20:59 MultiplexedPairedEndBarcodeInSequence.qza\n",
      "-rw-rw-r-- 1 junyuchen junyuchen 251M Jul 28 21:00 MultiplexedPairedEndBarcodeInSequence1.qza\n",
      "-rw-rw-r-- 1 junyuchen junyuchen 1.3G Jul 28 20:59 Wulu-200608_FDDP202420784-1a_1.clean.fq\n",
      "-rw-rw-r-- 1 junyuchen junyuchen 1.3G Jul 28 21:00 Wulu-200608_FDDP202420784-1a_2.clean.fq\n",
      "-rw-rw-r-- 1 junyuchen junyuchen 2.3G Jul 28 21:05 Wulu-200608_FDDP202420784-1a_merged.fq\n",
      "-rw-rw-r-- 1 junyuchen junyuchen  12M Jul 28 21:05 Wulu-200608_FDDP202420784-1a_unmapped_1.fq\n",
      "-rw-rw-r-- 1 junyuchen junyuchen  12M Jul 28 21:05 Wulu-200608_FDDP202420784-1a_unmapped_2.fq\n",
      "-rw-rw-r-- 1 junyuchen junyuchen  137 Jul 28 21:53 empty_samples.txt\n",
      "-rw-rw-r-- 1 junyuchen junyuchen 3.1K Jul 28 21:00 metadata_0608_qiime1.txt\n",
      "-rw-rw-r-- 1 junyuchen junyuchen 3.4K Jul 28 20:59 metadata_0608_qiime2.txt\n",
      "-rw-rw-r-- 1 junyuchen junyuchen 263M Jul 28 20:59 multiplexed-seqs1.qza\n",
      "drwxrwxr-x 2 junyuchen junyuchen 4.0K Jul 28 20:59 muxed-se-barcode-in-seq\n",
      "drwxrwxr-x 2 junyuchen junyuchen 4.0K Jul 28 21:52 parse\n",
      "-rw-rw-r-- 1 junyuchen junyuchen 8.6M Jul 28 20:59 per_samples.qza\n",
      "-rw-rw-r-- 1 junyuchen junyuchen 8.6M Jul 28 20:59 per_samples1.qza\n",
      "drwxrwxr-x 2 junyuchen junyuchen 4.0K Jul 28 20:59 pre_de_barcode_adjust\n",
      "-rw-rw-r-- 1 junyuchen junyuchen 2.3G Jul 28 20:59 qzp_merged.fq\n",
      "-rw-rw-r-- 1 junyuchen junyuchen  12M Jul 28 21:00 qzp_unmapped_1.fq\n",
      "-rw-rw-r-- 1 junyuchen junyuchen  12M Jul 28 20:59 qzp_unmapped_2.fq\n",
      "-rw-rw-r-- 1 junyuchen junyuchen  487 Jul 28 21:53 reads_distr_of_samples.txt\n",
      "-rw-rw-r-- 1 junyuchen junyuchen  990 Jul 28 21:05 vserach_log_wulu.txt\n",
      "-rw-rw-r-- 1 junyuchen junyuchen  898 Jul 28 20:59 wulu_sample_index.txt\n"
     ]
    }
   ],
   "source": [
    "!ls /home/junyuchen/Lab/Extract-Sample/Nuohe_0608 -alh"
   ]
  },
  {
   "cell_type": "code",
   "execution_count": 22,
   "metadata": {},
   "outputs": [
    {
     "name": "stdout",
     "output_type": "stream",
     "text": [
      "@A00808:379:HLTMFDRXX:2:2101:28519:3850 1:N:0:CGTAGATG+CGTTGCTT\n",
      "CACGATGACTACTCGGGTATCTAATCCTGTTTGCTCCCCACGCTTTCGAGCCTCAACGTCAGTCATCGTCCAGTAAGCCGCCTTCGCCACTGGTGTTCCTCCCAATATCTACGCATTTCACCGCTACACTGGGAATTCCACTTACCTCTCCGACACTCTAGCTGCATAGTTTCCAAAGCAGTCCCGGGGTTGAGCCCCGGGCTTTCACTTCAGACTTACACAGCCGTCTACGCTCCCTTTACACCCAGTAAATCCGGATAACGCTTGCACCATACGTATTACCGCGGCTGCTGGCACGTATTTAGCCGGTGCTTCTTAGTCAGGTACCGTCATTTTCTTCCCTGCTGATAGAGCTTTACATACCGAAATACTTCTTCGCTCACGCGGCGTCGCTGCATCAGGGTTTCCCCCATTGTGCAATATTCCCCACTGCAGCCCCCCGTAGGACATCC\n",
      "+\n",
      "FFFFFFFFFFFFFFFFFF,FFF:FFFFFFFFFFFFFFFFFFFFFFFFFFFFFFFFFFF:F:FFFFFFFFFFFFFFFFFFFFF,FFFFFFFFFFFFFFFFFFFFF:F,FFFFFFFFFFFFFFFFFF,FFFFFFFF,FFFFFFFF,FFFFFFFFFFFFFFFFFFFFFFFFFFFFF:FF:,FFFFFFFFFF,F:FFFFFFFFFFFJJJJJJJJJJJJJJJJJJJJJJJJJJJJJJJJJJJJJJ;JJJJJJJJJFFF:FFFFFFFFFF:FFFFFFFFFFFFFF,FFFFFFFFFFF:FF:F:FFFF:FFFFFFFFFF:F:F:FF:FFFFFFFFFFFFFFFFF:FFFF:FF,FFFF::::FF,F,F:FFFFFF:,FFFFFFFFFFFFFFFFFFFFFFFFFFFFFFFFFFFFFFFFFFF,FFFFFFF:F:FFFFFFFFFFFFFFFFFFF:FFFFFFFF,\n",
      "@A00808:379:HLTMFDRXX:2:2101:8260:4335 1:N:0:CGTAGATG+CGATGCTT\n",
      "ATTCCTGACTACACGGGTATCTAATCCTGTTCGCTCCCCCAGCTTTCGCGCCTCAGCGTCGGTCTCGGCCCAGAGGGCCGCCTTCGCCACCGGTGTTCCACCCGATATCTGCGCATTCCACCGCTACACCGGGTGTTCCACCCTCCCCTACCGGACCCAAGCCGCGGAGGTTCCGGGGGCTTCGGGGGGTTGAGCCCCCCGCTTCGACCCCCGGCCTGCCGGGCCGCCTACGCGCGCTTTACGCCCAATGAATCCGGATAACGCTCGCCCCCTACGTATTACCGCGGCTGCTGGCACGGAGTTAGCCGGGGCTTCTTCTGCAGGTACAGTCTCTTCTCGTCCCTGCTGAAAGCGGTTTACGACCCGAAGGCCTCCGTCCCGCACGCGGCGTCGCTGCGTCAGGGTTCCCCCCATTGCGCAAGATTCCCCACTGCAGCCTCCCGTAGGTGGTCA\n",
      "+\n",
      ":,FFFFFFFFFFFFFFFFFFFFFFFFFFFFFFFFFFFFFFFFFFFFFFFFFFFFFFFFFFFFFFFFFFFFFFFFFFF:FFFF:FFFFFFFFFFFFFFFFFFFFFFFFFFFFFFFFFFFF,FFFFFFF:FFFFFFFFFFFFFFFFFFFFFFFFF,FFFFFF,FFFFF,F,FFFFFF,FFFFF:FF,FFFFFFFFFFFFFFFFFFJJJJJJJJJJJJJJJJJJJJJJJJJJ/JJJJJJJJJJJJJJJJJJJJFFF,FFF::FFFF:F,F,FFF,,:FFFF,,F:FF,FF,FFFFFF:FFF,FF:,FFFFFFFF:::FF::FFFFFF:FFFF:FFFFFFFF,FFF:F,F,FF::F:,FFFFF::FFFFFFFF:FFFFFF:FFFFFFFF:FFFFFFFFFFFFFFFFFFFFFFFFFF,F:FFFFFFFF:FFFFF:FFFFFFFF:FFFFFFFFFFFFFF\n",
      "@A00808:379:HLTMFDRXX:2:2101:3504:6183 1:N:0:CGTAGATG+CGATGCTT\n",
      "CACGATGACTACTGGGGTATCTAATCCTGTTTGATACCCACACTTTCGAGCATCAATGTCAGTTACAGGTTAGTAAGCTGCCTTCGCAATCGGAGTTCTTCGTGATATCTAAGCATTTCACCGCTACACCACGAATTCCGCCTACCTCAACTGTACTCAAGACTGCCAGTATCAATTGCAATTTTACGGTTGAGCCGCAAACTTTCACAACTGACTTAACAACCCATCTACGCTCCCTTTAAACCCAATAAATCCGGATAACGCTCGGATCCTCCGTATTACCGCGGCTGCTGGCACGGAGTTAGCCGATCCTTATTCATACGGTACATGCAAAAATCCACGCGTGGATCCGTTTATTCCCGTATAAAAGAAGTTTACAATCCATAGAAACTTCATCCTTCACGCTACTTGGCTGGTTCAGACTCTCGTCCATTGACCAATATTCCTCACTGCTGCCGCCCGTAGGACATCG\n"
     ]
    }
   ],
   "source": [
    "!head /home/junyuchen/Lab/Extract-Sample/Nuohe_0608/parse/f_index_not_mapped.fastq"
   ]
  },
  {
   "cell_type": "code",
   "execution_count": 27,
   "metadata": {},
   "outputs": [
    {
     "name": "stdout",
     "output_type": "stream",
     "text": [
      "@A00808:379:HLTMFDRXX:2:2101:28519:3850 1:N:0:CGTAGATG+CGTTGCTT\n"
     ]
    }
   ],
   "source": [
    "!grep \"@A00808:379:HLTMFDRXX:2:2101:28519:3850\" /home/junyuchen/Lab/Extract-Sample/Nuohe_0608/Wulu-200608_FDDP202420784-1a_1.clean.fq"
   ]
  },
  {
   "cell_type": "code",
   "execution_count": 29,
   "metadata": {},
   "outputs": [],
   "source": [
    "for seq in SeqIO.parse(\"/home/junyuchen/Lab/Extract-Sample/Nuohe_0608/Wulu-200608_FDDP202420784-1a_1.clean.fq\", \"fastq\"):\n",
    "    if \"@A00808:379:HLTMFDRXX:2:2101:28519:3850\" in seq.id:\n",
    "        print(seq)"
   ]
  },
  {
   "cell_type": "code",
   "execution_count": null,
   "metadata": {},
   "outputs": [],
   "source": [
    "for seq in SeqIO.parse(\"/home/junyuchen/Lab/Extract-Sample/Nuohe_0608/Wulu-200608_FDDP202420784-1a_2.clean.fq\", \"fastq\"):\n",
    "    if \"@A00808:379:HLTMFDRXX:2:2101:28519:3850\" in seq.id:\n",
    "        print(seq)"
   ]
  }
 ],
 "metadata": {
  "kernelspec": {
   "display_name": "Python 3",
   "language": "python",
   "name": "python3"
  },
  "language_info": {
   "codemirror_mode": {
    "name": "ipython",
    "version": 3
   },
   "file_extension": ".py",
   "mimetype": "text/x-python",
   "name": "python",
   "nbconvert_exporter": "python",
   "pygments_lexer": "ipython3",
   "version": "3.7.6"
  }
 },
 "nbformat": 4,
 "nbformat_minor": 4
}
